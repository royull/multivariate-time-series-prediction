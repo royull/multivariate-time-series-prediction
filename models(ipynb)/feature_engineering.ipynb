{
 "cells": [
  {
   "cell_type": "code",
   "execution_count": 1,
   "metadata": {},
   "outputs": [],
   "source": [
    "import os\n",
    "import datetime\n",
    "import time\n",
    "import pandas as pd\n",
    "import numpy as np\n",
    "import matplotlib.pyplot as plt\n",
    "import seaborn as sns\n",
    "%matplotlib inline \n",
    "\n",
    "log_pr = pd.read_pickle(\"../data/log_price.df\")\n",
    "volu = pd.read_pickle(\"../data/volume_usd.df\")"
   ]
  },
  {
   "cell_type": "markdown",
   "metadata": {},
   "source": [
    "## Feature Engineering"
   ]
  },
  {
   "cell_type": "code",
   "execution_count": 2,
   "metadata": {},
   "outputs": [],
   "source": [
    "features = log_pr.reset_index().melt(id_vars=['timestamp'])\n",
    "features.columns = ['timestamp', 'stock', 'log_pr']\n",
    "features = features.set_index(['timestamp', 'stock']).sort_index()"
   ]
  },
  {
   "cell_type": "markdown",
   "metadata": {},
   "source": [
    "### backward returns"
   ]
  },
  {
   "cell_type": "code",
   "execution_count": 3,
   "metadata": {},
   "outputs": [],
   "source": [
    "for i in [3, 5, 10, 20]:\n",
    "    features['log_pr_{}'.format(i)] = -features.groupby(level='stock').log_pr.diff(i)"
   ]
  },
  {
   "cell_type": "code",
   "execution_count": 253,
   "metadata": {},
   "outputs": [
    {
     "data": {
      "text/plain": [
       "0   -0.001984\n",
       "1    0.001329\n",
       "2   -0.003673\n",
       "3   -0.000100\n",
       "4    0.000413\n",
       "5   -0.000011\n",
       "6    0.002487\n",
       "7   -0.000455\n",
       "8    0.000299\n",
       "9   -0.000356\n",
       "Name: 2021-12-31 23:59:00, dtype: float64"
      ]
     },
     "execution_count": 253,
     "metadata": {},
     "output_type": "execute_result"
    }
   ],
   "source": [
    "log_pr.diff(30).iloc[-1]"
   ]
  },
  {
   "cell_type": "code",
   "execution_count": 256,
   "metadata": {},
   "outputs": [
    {
     "data": {
      "text/plain": [
       "0    0.001984\n",
       "1   -0.001329\n",
       "2    0.003673\n",
       "3    0.000100\n",
       "4   -0.000413\n",
       "5    0.000011\n",
       "6   -0.002487\n",
       "7    0.000455\n",
       "8   -0.000299\n",
       "9    0.000356\n",
       "dtype: float64"
      ]
     },
     "execution_count": 256,
     "metadata": {},
     "output_type": "execute_result"
    }
   ],
   "source": [
    "-(log_pr.iloc[-1] - log_pr.iloc[-31])"
   ]
  },
  {
   "cell_type": "code",
   "execution_count": 5,
   "metadata": {},
   "outputs": [
    {
     "data": {
      "text/html": [
       "<div>\n",
       "<style scoped>\n",
       "    .dataframe tbody tr th:only-of-type {\n",
       "        vertical-align: middle;\n",
       "    }\n",
       "\n",
       "    .dataframe tbody tr th {\n",
       "        vertical-align: top;\n",
       "    }\n",
       "\n",
       "    .dataframe thead th {\n",
       "        text-align: right;\n",
       "    }\n",
       "</style>\n",
       "<table border=\"1\" class=\"dataframe\">\n",
       "  <thead>\n",
       "    <tr style=\"text-align: right;\">\n",
       "      <th></th>\n",
       "      <th>0</th>\n",
       "      <th>1</th>\n",
       "      <th>2</th>\n",
       "      <th>3</th>\n",
       "      <th>4</th>\n",
       "      <th>5</th>\n",
       "      <th>6</th>\n",
       "      <th>7</th>\n",
       "      <th>8</th>\n",
       "      <th>9</th>\n",
       "    </tr>\n",
       "    <tr>\n",
       "      <th>timestamp</th>\n",
       "      <th></th>\n",
       "      <th></th>\n",
       "      <th></th>\n",
       "      <th></th>\n",
       "      <th></th>\n",
       "      <th></th>\n",
       "      <th></th>\n",
       "      <th></th>\n",
       "      <th></th>\n",
       "      <th></th>\n",
       "    </tr>\n",
       "  </thead>\n",
       "  <tbody>\n",
       "    <tr>\n",
       "      <th>2021-07-01 00:00:00</th>\n",
       "      <td>NaN</td>\n",
       "      <td>NaN</td>\n",
       "      <td>NaN</td>\n",
       "      <td>NaN</td>\n",
       "      <td>NaN</td>\n",
       "      <td>NaN</td>\n",
       "      <td>NaN</td>\n",
       "      <td>NaN</td>\n",
       "      <td>NaN</td>\n",
       "      <td>NaN</td>\n",
       "    </tr>\n",
       "    <tr>\n",
       "      <th>2021-07-01 00:01:00</th>\n",
       "      <td>NaN</td>\n",
       "      <td>NaN</td>\n",
       "      <td>NaN</td>\n",
       "      <td>NaN</td>\n",
       "      <td>NaN</td>\n",
       "      <td>NaN</td>\n",
       "      <td>NaN</td>\n",
       "      <td>NaN</td>\n",
       "      <td>NaN</td>\n",
       "      <td>NaN</td>\n",
       "    </tr>\n",
       "    <tr>\n",
       "      <th>2021-07-01 00:02:00</th>\n",
       "      <td>NaN</td>\n",
       "      <td>NaN</td>\n",
       "      <td>NaN</td>\n",
       "      <td>NaN</td>\n",
       "      <td>NaN</td>\n",
       "      <td>NaN</td>\n",
       "      <td>NaN</td>\n",
       "      <td>NaN</td>\n",
       "      <td>NaN</td>\n",
       "      <td>NaN</td>\n",
       "    </tr>\n",
       "    <tr>\n",
       "      <th>2021-07-01 00:03:00</th>\n",
       "      <td>NaN</td>\n",
       "      <td>NaN</td>\n",
       "      <td>NaN</td>\n",
       "      <td>NaN</td>\n",
       "      <td>NaN</td>\n",
       "      <td>NaN</td>\n",
       "      <td>NaN</td>\n",
       "      <td>NaN</td>\n",
       "      <td>NaN</td>\n",
       "      <td>NaN</td>\n",
       "    </tr>\n",
       "    <tr>\n",
       "      <th>2021-07-01 00:04:00</th>\n",
       "      <td>NaN</td>\n",
       "      <td>NaN</td>\n",
       "      <td>NaN</td>\n",
       "      <td>NaN</td>\n",
       "      <td>NaN</td>\n",
       "      <td>NaN</td>\n",
       "      <td>NaN</td>\n",
       "      <td>NaN</td>\n",
       "      <td>NaN</td>\n",
       "      <td>NaN</td>\n",
       "    </tr>\n",
       "    <tr>\n",
       "      <th>2021-07-01 00:05:00</th>\n",
       "      <td>NaN</td>\n",
       "      <td>NaN</td>\n",
       "      <td>NaN</td>\n",
       "      <td>NaN</td>\n",
       "      <td>NaN</td>\n",
       "      <td>NaN</td>\n",
       "      <td>NaN</td>\n",
       "      <td>NaN</td>\n",
       "      <td>NaN</td>\n",
       "      <td>NaN</td>\n",
       "    </tr>\n",
       "    <tr>\n",
       "      <th>2021-07-01 00:06:00</th>\n",
       "      <td>NaN</td>\n",
       "      <td>NaN</td>\n",
       "      <td>NaN</td>\n",
       "      <td>NaN</td>\n",
       "      <td>NaN</td>\n",
       "      <td>NaN</td>\n",
       "      <td>NaN</td>\n",
       "      <td>NaN</td>\n",
       "      <td>NaN</td>\n",
       "      <td>NaN</td>\n",
       "    </tr>\n",
       "    <tr>\n",
       "      <th>2021-07-01 00:07:00</th>\n",
       "      <td>NaN</td>\n",
       "      <td>NaN</td>\n",
       "      <td>NaN</td>\n",
       "      <td>NaN</td>\n",
       "      <td>NaN</td>\n",
       "      <td>NaN</td>\n",
       "      <td>NaN</td>\n",
       "      <td>NaN</td>\n",
       "      <td>NaN</td>\n",
       "      <td>NaN</td>\n",
       "    </tr>\n",
       "    <tr>\n",
       "      <th>2021-07-01 00:08:00</th>\n",
       "      <td>NaN</td>\n",
       "      <td>NaN</td>\n",
       "      <td>NaN</td>\n",
       "      <td>NaN</td>\n",
       "      <td>NaN</td>\n",
       "      <td>NaN</td>\n",
       "      <td>NaN</td>\n",
       "      <td>NaN</td>\n",
       "      <td>NaN</td>\n",
       "      <td>NaN</td>\n",
       "    </tr>\n",
       "    <tr>\n",
       "      <th>2021-07-01 00:09:00</th>\n",
       "      <td>-0.000918</td>\n",
       "      <td>0.000536</td>\n",
       "      <td>0.001157</td>\n",
       "      <td>-0.000431</td>\n",
       "      <td>-0.003427</td>\n",
       "      <td>0.000505</td>\n",
       "      <td>-0.003746</td>\n",
       "      <td>0.000405</td>\n",
       "      <td>0.002177</td>\n",
       "      <td>-0.00004</td>\n",
       "    </tr>\n",
       "  </tbody>\n",
       "</table>\n",
       "</div>"
      ],
      "text/plain": [
       "                            0         1         2         3         4  \\\n",
       "timestamp                                                               \n",
       "2021-07-01 00:00:00       NaN       NaN       NaN       NaN       NaN   \n",
       "2021-07-01 00:01:00       NaN       NaN       NaN       NaN       NaN   \n",
       "2021-07-01 00:02:00       NaN       NaN       NaN       NaN       NaN   \n",
       "2021-07-01 00:03:00       NaN       NaN       NaN       NaN       NaN   \n",
       "2021-07-01 00:04:00       NaN       NaN       NaN       NaN       NaN   \n",
       "2021-07-01 00:05:00       NaN       NaN       NaN       NaN       NaN   \n",
       "2021-07-01 00:06:00       NaN       NaN       NaN       NaN       NaN   \n",
       "2021-07-01 00:07:00       NaN       NaN       NaN       NaN       NaN   \n",
       "2021-07-01 00:08:00       NaN       NaN       NaN       NaN       NaN   \n",
       "2021-07-01 00:09:00 -0.000918  0.000536  0.001157 -0.000431 -0.003427   \n",
       "\n",
       "                            5         6         7         8        9  \n",
       "timestamp                                                             \n",
       "2021-07-01 00:00:00       NaN       NaN       NaN       NaN      NaN  \n",
       "2021-07-01 00:01:00       NaN       NaN       NaN       NaN      NaN  \n",
       "2021-07-01 00:02:00       NaN       NaN       NaN       NaN      NaN  \n",
       "2021-07-01 00:03:00       NaN       NaN       NaN       NaN      NaN  \n",
       "2021-07-01 00:04:00       NaN       NaN       NaN       NaN      NaN  \n",
       "2021-07-01 00:05:00       NaN       NaN       NaN       NaN      NaN  \n",
       "2021-07-01 00:06:00       NaN       NaN       NaN       NaN      NaN  \n",
       "2021-07-01 00:07:00       NaN       NaN       NaN       NaN      NaN  \n",
       "2021-07-01 00:08:00       NaN       NaN       NaN       NaN      NaN  \n",
       "2021-07-01 00:09:00  0.000505 -0.003746  0.000405  0.002177 -0.00004  "
      ]
     },
     "execution_count": 5,
     "metadata": {},
     "output_type": "execute_result"
    }
   ],
   "source": [
    "temp = log_pr.rolling(10).mean()\n",
    "temp.head(10)"
   ]
  },
  {
   "cell_type": "markdown",
   "metadata": {},
   "source": [
    "### log volume and volume backward diffrence"
   ]
  },
  {
   "cell_type": "code",
   "execution_count": 6,
   "metadata": {},
   "outputs": [
    {
     "data": {
      "text/html": [
       "<div>\n",
       "<style scoped>\n",
       "    .dataframe tbody tr th:only-of-type {\n",
       "        vertical-align: middle;\n",
       "    }\n",
       "\n",
       "    .dataframe tbody tr th {\n",
       "        vertical-align: top;\n",
       "    }\n",
       "\n",
       "    .dataframe thead th {\n",
       "        text-align: right;\n",
       "    }\n",
       "</style>\n",
       "<table border=\"1\" class=\"dataframe\">\n",
       "  <thead>\n",
       "    <tr style=\"text-align: right;\">\n",
       "      <th></th>\n",
       "      <th></th>\n",
       "      <th>volu</th>\n",
       "    </tr>\n",
       "    <tr>\n",
       "      <th>timestamp</th>\n",
       "      <th>stock</th>\n",
       "      <th></th>\n",
       "    </tr>\n",
       "  </thead>\n",
       "  <tbody>\n",
       "    <tr>\n",
       "      <th rowspan=\"10\" valign=\"top\">2021-07-01</th>\n",
       "      <th>0</th>\n",
       "      <td>1.475069e+05</td>\n",
       "    </tr>\n",
       "    <tr>\n",
       "      <th>1</th>\n",
       "      <td>5.808116e+05</td>\n",
       "    </tr>\n",
       "    <tr>\n",
       "      <th>2</th>\n",
       "      <td>1.860058e+04</td>\n",
       "    </tr>\n",
       "    <tr>\n",
       "      <th>3</th>\n",
       "      <td>1.601353e+05</td>\n",
       "    </tr>\n",
       "    <tr>\n",
       "      <th>4</th>\n",
       "      <td>2.765960e+05</td>\n",
       "    </tr>\n",
       "    <tr>\n",
       "      <th>5</th>\n",
       "      <td>2.916289e+05</td>\n",
       "    </tr>\n",
       "    <tr>\n",
       "      <th>6</th>\n",
       "      <td>8.544255e+05</td>\n",
       "    </tr>\n",
       "    <tr>\n",
       "      <th>7</th>\n",
       "      <td>1.801509e+05</td>\n",
       "    </tr>\n",
       "    <tr>\n",
       "      <th>8</th>\n",
       "      <td>4.151507e+06</td>\n",
       "    </tr>\n",
       "    <tr>\n",
       "      <th>9</th>\n",
       "      <td>7.568141e+06</td>\n",
       "    </tr>\n",
       "  </tbody>\n",
       "</table>\n",
       "</div>"
      ],
      "text/plain": [
       "                          volu\n",
       "timestamp  stock              \n",
       "2021-07-01 0      1.475069e+05\n",
       "           1      5.808116e+05\n",
       "           2      1.860058e+04\n",
       "           3      1.601353e+05\n",
       "           4      2.765960e+05\n",
       "           5      2.916289e+05\n",
       "           6      8.544255e+05\n",
       "           7      1.801509e+05\n",
       "           8      4.151507e+06\n",
       "           9      7.568141e+06"
      ]
     },
     "execution_count": 6,
     "metadata": {},
     "output_type": "execute_result"
    }
   ],
   "source": [
    "volu_df = volu.reset_index().melt(id_vars=['timestamp'])\n",
    "volu_df.columns = ['timestamp', 'stock', 'volu']\n",
    "volu_df = volu_df.set_index(['timestamp', 'stock']).sort_index()\n",
    "volu_df.head(10)"
   ]
  },
  {
   "cell_type": "code",
   "execution_count": 7,
   "metadata": {},
   "outputs": [],
   "source": [
    "log_fn = lambda x: np.log(x+1)\n",
    "features['log_volu'] = volu_df.groupby(level='stock').volu.apply(log_fn)"
   ]
  },
  {
   "cell_type": "code",
   "execution_count": 8,
   "metadata": {},
   "outputs": [],
   "source": [
    "for i in [1]:\n",
    "    features['log_volu_{}'.format(i)] = features.groupby(level='stock').log_volu.diff(i)\n",
    "    # features['volu_{}',format(i)] = volu_df.groupby(level='stock').volu.diff(i)"
   ]
  },
  {
   "cell_type": "markdown",
   "metadata": {},
   "source": [
    "### Exponential Moving average\n"
   ]
  },
  {
   "cell_type": "code",
   "execution_count": 12,
   "metadata": {},
   "outputs": [],
   "source": [
    "for i in [10, 30, 50]:\n",
    "    ema = lambda x: x.ewm(span=i).mean()\n",
    "    features['pr_ema_{}'.format(i)] = features.groupby(level='stock').log_pr.apply(ema)"
   ]
  },
  {
   "cell_type": "markdown",
   "metadata": {},
   "source": [
    "### RSI"
   ]
  },
  {
   "cell_type": "code",
   "execution_count": 23,
   "metadata": {},
   "outputs": [],
   "source": [
    "def rsi(close_delta, periods=20, ema=True):\n",
    "    \"\"\"\n",
    "    Returns a pd.Series with the relative strength index.\n",
    "    \"\"\"\n",
    "    close_delta = close_delta.diff()\n",
    "\n",
    "    # Make two series: one for lower closes and one for higher closes\n",
    "    up = close_delta.clip(lower=0)\n",
    "    down = -1 * close_delta.clip(upper=0)\n",
    "    \n",
    "    if ema == True:\n",
    "\t    # Use exponential moving average\n",
    "        ma_up = up.ewm(com = periods - 1, adjust=True, min_periods = periods).mean()\n",
    "        ma_down = down.ewm(com = periods - 1, adjust=True, min_periods = periods).mean()\n",
    "    else:\n",
    "        # Use simple moving average\n",
    "        ma_up = up.rolling(window = periods, adjust=False).mean()\n",
    "        ma_down = down.rolling(window = periods, adjust=False).mean()\n",
    "        \n",
    "    rsi = ma_up / ma_down\n",
    "    rsi = 100 - (100/(1 + rsi))\n",
    "    return rsi"
   ]
  },
  {
   "cell_type": "code",
   "execution_count": 26,
   "metadata": {},
   "outputs": [],
   "source": [
    "features['rsi_20'] = features.groupby(level='stock').log_pr.apply(rsi)\n",
    "features['rsi_30'] = features.groupby(level='stock').log_pr.apply(rsi, periods=30)\n",
    "features['rsi_50'] = features.groupby(level='stock').log_pr.apply(rsi, periods=50)"
   ]
  },
  {
   "cell_type": "markdown",
   "metadata": {},
   "source": [
    "### Moving std. and Range of Oscillation"
   ]
  },
  {
   "cell_type": "code",
   "execution_count": 27,
   "metadata": {},
   "outputs": [],
   "source": [
    "# std_5 = lambda x: x.rolling(5).std()\n",
    "std_10 = lambda x: x.rolling(10).std()\n",
    "features['pr_3_std_10'] = features.groupby(level='stock').log_pr_3.apply(std_10)"
   ]
  },
  {
   "cell_type": "code",
   "execution_count": 60,
   "metadata": {},
   "outputs": [],
   "source": [
    "# def adr(log_pr, window=10, min_periods=10):\n",
    "#     ma_max = lambda x: x.rolling(window=window, min_periods=min_periods).max()\n",
    "#     ma_min = lambda x: x.rolling(window=window, min_periods=min_periods).min()\n",
    "\n",
    "#     ma = lambda x: x.rolling(window=window, min_periods=min_periods).mean()\n",
    "    \n",
    "#     high = log_pr.apply(ma_max)\n",
    "#     low = log_pr.apply(ma_min)\n",
    "\n",
    "#     # average over window\n",
    "#     ma_high = high.groupby(level='stock').apply(ma)\n",
    "#     ma_low = low.groupby(level='stock').apply(ma)\n",
    "\n",
    "#     ratio = ma_high/ma_low\n",
    "\n",
    "#     return 100 * (ratio - 1)\n",
    "# features['pr_adr_20'] = features.groupby(level='stock').log_pr.apply(adr)"
   ]
  },
  {
   "cell_type": "code",
   "execution_count": 64,
   "metadata": {},
   "outputs": [],
   "source": [
    "k_period = 14\n",
    "d_period = 3\n",
    "ma_max = lambda x: x.rolling(k_period).max()\n",
    "ma_min = lambda x: x.rolling(k_period).min()\n",
    "mak = lambda x: x.rolling(k_period).mean()\n",
    "mad = lambda x: x.rolling(d_period).mean()\n",
    "\n",
    "features['pr_min_14'] = features.groupby(level='stock').log_pr.apply(ma_min)\n",
    "features['pr_max_14'] = features.groupby(level='stock').log_pr.apply(ma_max)\n",
    "features['pr_ma_14'] = features.groupby(level='stock').log_pr.apply(mak)\n",
    "\n",
    "features['pr_so_14'] = (features['pr_ma_14'] - features['pr_min_14'])*100 / (features['pr_max_14'] - features['pr_min_14'])\n",
    "features['pr_so_14d3'] = features.groupby(level='stock').pr_so_14.apply(mad)"
   ]
  },
  {
   "cell_type": "code",
   "execution_count": 218,
   "metadata": {},
   "outputs": [
    {
     "data": {
      "text/plain": [
       "array([[ 0.20522693, -0.95368836,  1.82801342, -0.01300574, -0.45457584,\n",
       "        -0.43331493, -0.24657942, -0.44382189,  0.05167313, -0.09703641],\n",
       "       [ 0.20522693, -0.95368836,  1.82801342, -0.01305542, -0.45457584,\n",
       "        -0.43331493, -0.24657942, -0.44382189,  0.05167313, -0.09703641],\n",
       "       [ 0.20522693, -0.95346183,  1.82801342, -0.01305542, -0.45457584,\n",
       "        -0.43331493, -0.24657942, -0.44382189,  0.05167313, -0.09703641]])"
      ]
     },
     "execution_count": 218,
     "metadata": {},
     "output_type": "execute_result"
    }
   ],
   "source": [
    "log_pr.apply(ma_max).iloc[-3:].values"
   ]
  },
  {
   "cell_type": "code",
   "execution_count": 220,
   "metadata": {},
   "outputs": [
    {
     "data": {
      "text/plain": [
       "array([[ 0.20522693, -0.95368836,  1.82801342, -0.01300574, -0.45457584,\n",
       "        -0.43331493, -0.24657942, -0.44382189,  0.05167313, -0.09703641],\n",
       "       [ 0.20522693, -0.95368836,  1.82801342, -0.01305542, -0.45457584,\n",
       "        -0.43331493, -0.24657942, -0.44382189,  0.05167313, -0.09703641],\n",
       "       [ 0.20522693, -0.95346183,  1.82801342, -0.01305542, -0.45457584,\n",
       "        -0.43331493, -0.24657942, -0.44382189,  0.05167313, -0.09703641]])"
      ]
     },
     "execution_count": 220,
     "metadata": {},
     "output_type": "execute_result"
    }
   ],
   "source": [
    "log_pr.rolling(k_period).max().iloc[-d_period:].values"
   ]
  },
  {
   "cell_type": "code",
   "execution_count": null,
   "metadata": {},
   "outputs": [],
   "source": []
  },
  {
   "cell_type": "markdown",
   "metadata": {},
   "source": [
    "### z score of volume"
   ]
  },
  {
   "cell_type": "code",
   "execution_count": 35,
   "metadata": {},
   "outputs": [],
   "source": [
    "# roll_rank_fn = lambda x: x.rolling(240, min_period=20).apply(lambda x: pd.Series(x).rank(pct=True)[0])\n",
    "zscore_fn = lambda x: (x - x.rolling(window=240, min_periods=20).mean()) / x.rolling(window=240, min_periods=20).std()\n",
    "features['volu_z_score'] = volu_df.groupby(level='stock').volu.apply(zscore_fn)"
   ]
  },
  {
   "cell_type": "code",
   "execution_count": 36,
   "metadata": {},
   "outputs": [
    {
     "data": {
      "text/plain": [
       "stock  timestamp            stock\n",
       "0      2021-07-01 00:00:00  0                 NaN\n",
       "       2021-07-01 00:01:00  0                 NaN\n",
       "       2021-07-01 00:02:00  0                 NaN\n",
       "       2021-07-01 00:03:00  0                 NaN\n",
       "       2021-07-01 00:04:00  0                 NaN\n",
       "                                         ...     \n",
       "9      2021-12-31 23:55:00  9        6.669354e+07\n",
       "       2021-12-31 23:56:00  9        6.669354e+07\n",
       "       2021-12-31 23:57:00  9        6.669354e+07\n",
       "       2021-12-31 23:58:00  9        6.669354e+07\n",
       "       2021-12-31 23:59:00  9        6.669354e+07\n",
       "Name: volu, Length: 2649600, dtype: float64"
      ]
     },
     "execution_count": 36,
     "metadata": {},
     "output_type": "execute_result"
    }
   ],
   "source": [
    "volu_df.groupby(level='stock').volu.rolling(200, min_periods=20).max()"
   ]
  },
  {
   "cell_type": "markdown",
   "metadata": {},
   "source": [
    "### Transform back to wide format"
   ]
  },
  {
   "cell_type": "code",
   "execution_count": 37,
   "metadata": {},
   "outputs": [],
   "source": [
    "feature_df = features.reset_index(level=['stock']).sort_index()"
   ]
  },
  {
   "cell_type": "code",
   "execution_count": 41,
   "metadata": {},
   "outputs": [],
   "source": [
    "temp = feature_df.pivot(columns ='stock')\n",
    "temp.columns = temp.columns.get_level_values(0) + '_' +  [str(x) for x in temp.columns.get_level_values(1)]"
   ]
  },
  {
   "cell_type": "code",
   "execution_count": 43,
   "metadata": {},
   "outputs": [
    {
     "data": {
      "text/plain": [
       "False"
      ]
     },
     "execution_count": 43,
     "metadata": {},
     "output_type": "execute_result"
    }
   ],
   "source": [
    "temp.iloc[30:].isnull().any().all()"
   ]
  },
  {
   "cell_type": "markdown",
   "metadata": {},
   "source": [
    "### Chaikin's Money Flow"
   ]
  },
  {
   "cell_type": "code",
   "execution_count": null,
   "metadata": {},
   "outputs": [],
   "source": [
    "\n",
    "def calculate_money_flow_volume_series(df: pd.DataFrame) -> pd.Series:\n",
    "    \"\"\"\n",
    "    Calculates money flow series\n",
    "    \"\"\"\n",
    "    mfv = df['volume'] * (2*df['close'] - df['high'] - df['low']) / \\\n",
    "                                    (df['high'] - df['low'])\n",
    "    return mfv\n",
    "features['pr_mf_']\n"
   ]
  },
  {
   "cell_type": "markdown",
   "metadata": {},
   "source": [
    "### Organize Code"
   ]
  },
  {
   "cell_type": "code",
   "execution_count": 216,
   "metadata": {},
   "outputs": [],
   "source": [
    "def remove_outliers(dta):\n",
    "    # Compute the mean and interquartile range\n",
    "    mean = dta.mean(0)\n",
    "    iqr = dta.quantile([0.25, 0.75], axis=0).diff().T.iloc[:, 1]\n",
    "    \n",
    "    # Replace entries that are more than 10 times the IQR\n",
    "    # away from the mean with NaN (denotes a missing entry)\n",
    "    mask = np.abs(dta) > mean + 10 * iqr\n",
    "    treated = dta.copy()\n",
    "    treated[mask] = np.nan\n",
    "\n",
    "    return treated"
   ]
  },
  {
   "cell_type": "code",
   "execution_count": null,
   "metadata": {},
   "outputs": [],
   "source": [
    "def rsi(close_delta, periods=20, ema=True):\n",
    "    \"\"\"\n",
    "    Returns a pd.Series with the relative strength index.\n",
    "    \"\"\"\n",
    "    close_delta = close_delta.diff()\n",
    "\n",
    "    # Make two series: one for lower closes and one for higher closes\n",
    "    up = close_delta.clip(lower=0)\n",
    "    down = -1 * close_delta.clip(upper=0)\n",
    "    \n",
    "    if ema == True:\n",
    "\t    # Use exponential moving average\n",
    "        ma_up = up.ewm(com = periods - 1, adjust=True, min_periods = periods).mean()\n",
    "        ma_down = down.ewm(com = periods - 1, adjust=True, min_periods = periods).mean()\n",
    "    else:\n",
    "        # Use simple moving average\n",
    "        ma_up = up.rolling(window = periods, adjust=False).mean()\n",
    "        ma_down = down.rolling(window = periods, adjust=False).mean()\n",
    "        \n",
    "    rsi = ma_up / ma_down\n",
    "    rsi = 100 - (100/(1 + rsi))\n",
    "    return rsi"
   ]
  },
  {
   "cell_type": "code",
   "execution_count": 271,
   "metadata": {},
   "outputs": [],
   "source": [
    "def wide_format(df):\n",
    "    df_= df.reset_index(level=['stock']).sort_index()\n",
    "    df_ = df_.pivot(columns ='stock')\n",
    "    df_.columns = df_.columns.get_level_values(0) + '_' +  [str(x) for x in df_.columns.get_level_values(1)]\n",
    "\n",
    "    return df_\n",
    "\n",
    "\n",
    "def get_feature_train(log_pr, volu, x_begin_idx, x_end_idx, y_begin_idx, \n",
    "                        grp_idx=None, rm_outlier=False, print_cor=True):\n",
    "    \"\"\"\n",
    "    Input:\n",
    "    log_pr (pdSeries): train set\n",
    "    volu (pdSeries): train set\n",
    "    x_begin_idx (pdIndex): to truncate the NaNs\n",
    "    grp_idx (dict): key is group idx, value is list of stock idx\n",
    "\n",
    "    Returns:\n",
    "    feature_dict (dict): key is group idx, value is a tuple of feature matrix and response\n",
    "    \"\"\"\n",
    "\n",
    "    log_pr_df = log_pr.reset_index().melt(id_vars=['timestamp'])\n",
    "    log_pr_df.columns = ['timestamp', 'stock', 'log_pr']\n",
    "    log_pr_df = log_pr_df.set_index(['timestamp', 'stock']).sort_index()\n",
    "\n",
    "    volu_df = volu.reset_index().melt(id_vars=['timestamp'])\n",
    "    volu_df.columns = ['timestamp', 'stock', 'volu']\n",
    "    volu_df = volu_df.set_index(['timestamp', 'stock']).sort_index()\n",
    "\n",
    "    features = pd.DataFrame(index=log_pr_df.index)\n",
    "    # features['trend'] = np.ones(log_pr_df.shape[0])\n",
    "\n",
    "    # log_pr feature\n",
    "    for i in [30]:\n",
    "        features['log_pr_{}'.format(i)] = -log_pr_df.groupby(level='stock').log_pr.diff(i)\n",
    "\n",
    "    k_period = 40\n",
    "    d_period = 3\n",
    "    ma_max = lambda x: x.rolling(k_period).max()\n",
    "    ma_min = lambda x: x.rolling(k_period).min()\n",
    "    mad = lambda x: x.rolling(d_period).mean()\n",
    "    # msd = lambda x: x.rolling(d_period).sum()\n",
    "\n",
    "    features['pr_min_40'] = log_pr_df.groupby(level='stock').log_pr.apply(ma_min)\n",
    "    features['pr_max_40'] = log_pr_df.groupby(level='stock').log_pr.apply(ma_max)\n",
    "\n",
    "    features['pr_so_40'] = (log_pr_df.log_pr - features['pr_min_40'])*100 / (features['pr_max_40'] - features['pr_min_40'])\n",
    "    features['pr_so_40d3'] = features.groupby(level='stock').pr_so_40.apply(mad)\n",
    "\n",
    "    # STD of log price\n",
    "    for i in [10]:\n",
    "        std = lambda x: x.rolling(i).std()\n",
    "        features['log_pr_std_{}'.format(i)] = log_pr_df.groupby(level='stock').log_pr.apply(std)\n",
    "\n",
    "    # RSI\n",
    "    # features['rsi_20'] = log_pr_df.groupby(level='stock').log_pr.apply(rsi)\n",
    "    features['rsi_30'] = log_pr_df.groupby(level='stock').log_pr.apply(rsi, periods=30)\n",
    "    # features['rsi_50'] = log_pr_df.groupby(level='stock').log_pr.apply(rsi, periods=50)\n",
    "\n",
    "    # volume feature\n",
    "    log_fn = lambda x: np.log(x+1)\n",
    "    features['log_volu'] = volu_df.groupby(level='stock').volu.apply(log_fn)\n",
    "\n",
    "    # stdised volume in 2 hours backward rolling windows\n",
    "    zscore_fn = lambda x: (x - x.rolling(window=240, min_periods=20).mean()) / x.rolling(window=240, min_periods=20).std()\n",
    "    features['volu_z_score'] = volu_df.groupby(level='stock').volu.apply(zscore_fn)\n",
    "\n",
    "\n",
    "    # drop min, max features\n",
    "    features = features.drop(columns=['pr_min_40', 'pr_max_40', 'pr_so_40'])\n",
    "\n",
    "    response = log_pr.diff(30)\n",
    "\n",
    "    if grp_idx is not None:\n",
    "        feature_dict = {}\n",
    "        for key, idx_lis in grp_idx.items():\n",
    "            feature_df_dropped = wide_format(features.loc[pd.IndexSlice[:,idx_lis],:])\n",
    "            # transform back to wide format\n",
    "            feature_dict[key] = (feature_df_dropped.iloc[x_begin_idx:x_end_idx], \n",
    "                                            response[idx_lis].iloc[y_begin_idx:])\n",
    "        return feature_dict\n",
    "    else:\n",
    "        # transform back to wide format\n",
    "        feature_df_dropped = wide_format(features).iloc[x_begin_idx:x_end_idx]\n",
    "        # feature_df_dropped = feature_df[x_begin_idx:x_end_idx]\n",
    "    \n",
    "        if print_cor:\n",
    "            for i in range(10):\n",
    "                \n",
    "                feature_train_0 = features.xs(i, level='stock').iloc[x_begin_idx:x_end_idx]\n",
    "                print(feature_train_0.corrwith(response[i]))\n",
    "                print(feature_train_0.isnull().sum())\n",
    "\n",
    "        return feature_df_dropped, response.iloc[y_begin_idx:]"
   ]
  },
  {
   "cell_type": "code",
   "execution_count": 264,
   "metadata": {},
   "outputs": [
    {
     "name": "stdout",
     "output_type": "stream",
     "text": [
      "[[-0.2515334   1.09632419 -1.98167815]\n",
      " [ 1.77589998 -0.69245367  3.15644929]]\n",
      "[0.76218329 0.20193526 0.58738557]\n"
     ]
    }
   ],
   "source": [
    "a = np.random.normal(0,1,(2,3))\n",
    "print(a)\n",
    "print(a.mean(0))"
   ]
  },
  {
   "cell_type": "code",
   "execution_count": 265,
   "metadata": {},
   "outputs": [],
   "source": [
    "def rsi_test(log_pr, periods=20):\n",
    "    \"\"\"\n",
    "    Returns a pd.Series with the relative strength index.\n",
    "    \"\"\"\n",
    "    close_delta = log_pr.diff()\n",
    "\n",
    "    # Make two series: one for lower closes and one for higher closes\n",
    "    up = close_delta.clip(lower=0)\n",
    "    down = -1 * close_delta.clip(upper=0)\n",
    "    \n",
    "    # Use exponential moving average\n",
    "    ma_up = up.ewm(com=periods-1, adjust=True, min_periods=periods).mean().iloc[-1]\n",
    "    ma_down = down.ewm(com=periods-1, adjust=True, min_periods=periods).mean().iloc[-1]\n",
    "        \n",
    "    rsi = ma_up / ma_down\n",
    "    rsi = 100 - (100/(1 + rsi))\n",
    "    return rsi"
   ]
  },
  {
   "cell_type": "code",
   "execution_count": 280,
   "metadata": {},
   "outputs": [],
   "source": [
    "def wide_format_test(df):\n",
    "    df_= df.reset_index()\n",
    "    df_ = df_.pivot(columns ='index').apply(lambda s: s.dropna().reset_index(drop=True))\n",
    "    df_.columns = df_.columns.get_level_values(0) + '_' +  [str(x) for x in df_.columns.get_level_values(1)]\n",
    "\n",
    "    return df_\n",
    "\n",
    "def get_feature_test(log_pr, volu, grp_idx=None):\n",
    "    \"\"\"\n",
    "    Input: \n",
    "    log_pr (pdSeries): 1 day of log pr \n",
    "    volu (pdSeries): 1 day of volume\n",
    "\n",
    "    Output:\n",
    "    test data frame\n",
    "    \"\"\"\n",
    "    features = pd.DataFrame(index=log_pr.columns)\n",
    "    print(log_pr.index[-1])\n",
    "    features['trend'] = np.ones(log_pr.shape[1])\n",
    "    # backward return\n",
    "    # print(-(log_pr.iloc[-1] - log_pr.iloc[-30]).values)\n",
    "    # for i in [30]:\n",
    "    features['log_pr_30'] = -(log_pr.iloc[-1] - log_pr.iloc[-31]).values\n",
    "    \n",
    "    # Oscilator\n",
    "    k_period = 40\n",
    "    d_period = 3\n",
    "    pr_min_40 = log_pr.rolling(k_period).min().iloc[-d_period:].values\n",
    "    pr_max_40 = log_pr.rolling(k_period).max().iloc[-d_period:].values\n",
    "    pr_so_40 = (log_pr.iloc[-d_period:].values - pr_min_40)*100 / (pr_max_40 - pr_min_40)\n",
    "    features['pr_so_40d3']  = pr_so_40.mean(0)\n",
    "\n",
    "    # backward rolling std\n",
    "    # features['log_pr_std_10'] = log_pr.iloc[-10:].std(0).values\n",
    "    features['log_pr_std_30'] = log_pr.iloc[-30:].std(0).values\n",
    "    \n",
    "    # RSI\n",
    "    features['rsi_30'] = log_pr.apply(rsi_test, periods=30)\n",
    "\n",
    "    # volume features\n",
    "    features['log_volu'] = np.log(volu.iloc[-1].values + 1)\n",
    "    features['volu_z_score'] = ((volu.iloc[-1] - volu.iloc[-240:].mean())/volu.iloc[-240:].std()).values\n",
    "\n",
    "    print(volu.iloc[-240:].mean())\n",
    "\n",
    "    if grp_idx is None:\n",
    "        return wide_format_test(features)\n",
    "    else:\n",
    "        df_dict = {}\n",
    "        for key, idx_lis in grp_idx.items():\n",
    "            df_dict[key] = wide_format_test(features.loc[idx_lis])\n",
    "        return df_dict"
   ]
  },
  {
   "cell_type": "code",
   "execution_count": 228,
   "metadata": {},
   "outputs": [],
   "source": [
    "       \n",
    "    # # Chaikin's money flow\n",
    "    # features['mf_40'] = volu_df.volu * ((2*log_pr_df.log_pr - features['pr_min_40'])\n",
    "    #                             / (features['pr_max_40'] - features['pr_min_40']))\n",
    "    # features['mf_40_ma'] = (features.groupby(level='stock').mf_40.apply(msd) / \n",
    "    #                         volu_df.groupby(level='stock').volu.apply(msd))\n",
    "       \n",
    "#    if rm_outlier:\n",
    "#         feature_df_dropped = remove_outliers(feature_df)\n",
    "#         na_idx = feature_df_dropped.isnull().any(1)\n",
    "#         response_dropped[na_idx] = np.nan\n",
    "\n",
    "#         return feature_df_dropped.dropna(), response_dropped.dropna()"
   ]
  },
  {
   "cell_type": "code",
   "execution_count": 272,
   "metadata": {},
   "outputs": [
    {
     "name": "stdout",
     "output_type": "stream",
     "text": [
      "trend                 NaN\n",
      "log_pr_30       -1.000000\n",
      "pr_so_40d3       0.686567\n",
      "log_pr_std_10    0.294357\n",
      "log_pr_std_30    0.302889\n",
      "rsi_30           0.772883\n",
      "log_volu         0.137940\n",
      "volu_z_score     0.157187\n",
      "dtype: float64\n",
      "trend            0\n",
      "log_pr_30        0\n",
      "pr_so_40d3       0\n",
      "log_pr_std_10    0\n",
      "log_pr_std_30    0\n",
      "rsi_30           0\n",
      "log_volu         0\n",
      "volu_z_score     0\n",
      "dtype: int64\n",
      "trend                 NaN\n",
      "log_pr_30       -1.000000\n",
      "pr_so_40d3       0.576741\n",
      "log_pr_std_10    0.353351\n",
      "log_pr_std_30    0.381090\n",
      "rsi_30           0.680246\n",
      "log_volu         0.138583\n",
      "volu_z_score     0.188721\n",
      "dtype: float64\n",
      "trend            0\n",
      "log_pr_30        0\n",
      "pr_so_40d3       0\n",
      "log_pr_std_10    0\n",
      "log_pr_std_30    0\n",
      "rsi_30           0\n",
      "log_volu         0\n",
      "volu_z_score     0\n",
      "dtype: int64\n",
      "trend                 NaN\n",
      "log_pr_30       -1.000000\n",
      "pr_so_40d3       0.655153\n",
      "log_pr_std_10    0.308078\n",
      "log_pr_std_30    0.380294\n",
      "rsi_30           0.747689\n",
      "log_volu         0.087897\n",
      "volu_z_score     0.168670\n",
      "dtype: float64\n",
      "trend            0\n",
      "log_pr_30        0\n",
      "pr_so_40d3       0\n",
      "log_pr_std_10    0\n",
      "log_pr_std_30    0\n",
      "rsi_30           0\n",
      "log_volu         0\n",
      "volu_z_score     0\n",
      "dtype: int64\n",
      "trend                 NaN\n",
      "log_pr_30       -1.000000\n",
      "pr_so_40d3       0.689695\n",
      "log_pr_std_10    0.320901\n",
      "log_pr_std_30    0.342868\n",
      "rsi_30           0.781328\n",
      "log_volu         0.143779\n",
      "volu_z_score     0.148620\n",
      "dtype: float64\n",
      "trend            0\n",
      "log_pr_30        0\n",
      "pr_so_40d3       0\n",
      "log_pr_std_10    0\n",
      "log_pr_std_30    0\n",
      "rsi_30           0\n",
      "log_volu         0\n",
      "volu_z_score     0\n",
      "dtype: int64\n",
      "trend                 NaN\n",
      "log_pr_30       -1.000000\n",
      "pr_so_40d3       0.670726\n",
      "log_pr_std_10    0.173715\n",
      "log_pr_std_30    0.197725\n",
      "rsi_30           0.751519\n",
      "log_volu         0.084334\n",
      "volu_z_score     0.092054\n",
      "dtype: float64\n",
      "trend            0\n",
      "log_pr_30        0\n",
      "pr_so_40d3       0\n",
      "log_pr_std_10    0\n",
      "log_pr_std_30    0\n",
      "rsi_30           0\n",
      "log_volu         0\n",
      "volu_z_score     0\n",
      "dtype: int64\n",
      "trend                 NaN\n",
      "log_pr_30       -1.000000\n",
      "pr_so_40d3       0.666852\n",
      "log_pr_std_10    0.251732\n",
      "log_pr_std_30    0.302907\n",
      "rsi_30           0.758948\n",
      "log_volu         0.137192\n",
      "volu_z_score     0.159603\n",
      "dtype: float64\n",
      "trend            0\n",
      "log_pr_30        0\n",
      "pr_so_40d3       0\n",
      "log_pr_std_10    0\n",
      "log_pr_std_30    0\n",
      "rsi_30           0\n",
      "log_volu         0\n",
      "volu_z_score     0\n",
      "dtype: int64\n",
      "trend                 NaN\n",
      "log_pr_30       -1.000000\n",
      "pr_so_40d3       0.621209\n",
      "log_pr_std_10    0.334304\n",
      "log_pr_std_30    0.383488\n",
      "rsi_30           0.726531\n",
      "log_volu         0.115187\n",
      "volu_z_score     0.148388\n",
      "dtype: float64\n",
      "trend            0\n",
      "log_pr_30        0\n",
      "pr_so_40d3       0\n",
      "log_pr_std_10    0\n",
      "log_pr_std_30    0\n",
      "rsi_30           0\n",
      "log_volu         0\n",
      "volu_z_score     0\n",
      "dtype: int64\n",
      "trend                 NaN\n",
      "log_pr_30       -1.000000\n",
      "pr_so_40d3       0.737759\n",
      "log_pr_std_10    0.240876\n",
      "log_pr_std_30    0.260818\n",
      "rsi_30           0.814130\n",
      "log_volu         0.138852\n",
      "volu_z_score     0.145849\n",
      "dtype: float64\n",
      "trend            0\n",
      "log_pr_30        0\n",
      "pr_so_40d3       0\n",
      "log_pr_std_10    0\n",
      "log_pr_std_30    0\n",
      "rsi_30           0\n",
      "log_volu         0\n",
      "volu_z_score     0\n",
      "dtype: int64\n",
      "trend                 NaN\n",
      "log_pr_30       -1.000000\n",
      "pr_so_40d3       0.735187\n",
      "log_pr_std_10    0.173628\n",
      "log_pr_std_30    0.133054\n",
      "rsi_30           0.792139\n",
      "log_volu         0.127254\n",
      "volu_z_score     0.127017\n",
      "dtype: float64\n",
      "trend            0\n",
      "log_pr_30        0\n",
      "pr_so_40d3       0\n",
      "log_pr_std_10    0\n",
      "log_pr_std_30    0\n",
      "rsi_30           0\n",
      "log_volu         0\n",
      "volu_z_score     0\n",
      "dtype: int64\n",
      "trend                 NaN\n",
      "log_pr_30       -1.000000\n",
      "pr_so_40d3       0.708169\n",
      "log_pr_std_10    0.112642\n",
      "log_pr_std_30    0.027936\n",
      "rsi_30           0.771258\n",
      "log_volu         0.136004\n",
      "volu_z_score     0.137486\n",
      "dtype: float64\n",
      "trend            0\n",
      "log_pr_30        0\n",
      "pr_so_40d3       0\n",
      "log_pr_std_10    0\n",
      "log_pr_std_30    0\n",
      "rsi_30           0\n",
      "log_volu         0\n",
      "volu_z_score     0\n",
      "dtype: int64\n"
     ]
    }
   ],
   "source": [
    "t_train = log_pr.index[-87841]\n",
    "log_pr_train = log_pr[:t_train]\n",
    "volu_train = volu[:t_train]\n",
    "\n",
    "x_begin_idx = 41\n",
    "x_end_idx = -30\n",
    "y_begin_idx = 71\n",
    "\n",
    "grp_idx = {i:[i] for i in range(10)}\n",
    "# grp_idx = {0:[1,5,6,8], 1:[2,4,7], 2:[0,3,9]}\n",
    "feature_dict = get_feature_train(log_pr_train, volu_train, x_begin_idx, x_end_idx, y_begin_idx, grp_idx=None)"
   ]
  },
  {
   "cell_type": "code",
   "execution_count": 273,
   "metadata": {},
   "outputs": [
    {
     "name": "stdout",
     "output_type": "stream",
     "text": [
      "2021-07-01 23:59:00\n",
      "0    2.240485e+05\n",
      "1    3.834046e+05\n",
      "2    1.886689e+04\n",
      "3    1.785163e+05\n",
      "4    4.754693e+04\n",
      "5    3.309183e+05\n",
      "6    4.358940e+05\n",
      "7    1.688329e+05\n",
      "8    3.870659e+06\n",
      "9    1.149428e+07\n",
      "dtype: float64\n"
     ]
    }
   ],
   "source": [
    "grp_idx = {i:[i] for i in range(10)}\n",
    "\n",
    "temp = get_feature_test(log_pr_train.iloc[:1440], volu_train.iloc[:1440], grp_idx)"
   ]
  },
  {
   "cell_type": "code",
   "execution_count": 275,
   "metadata": {},
   "outputs": [
    {
     "data": {
      "text/html": [
       "<div>\n",
       "<style scoped>\n",
       "    .dataframe tbody tr th:only-of-type {\n",
       "        vertical-align: middle;\n",
       "    }\n",
       "\n",
       "    .dataframe tbody tr th {\n",
       "        vertical-align: top;\n",
       "    }\n",
       "\n",
       "    .dataframe thead th {\n",
       "        text-align: right;\n",
       "    }\n",
       "</style>\n",
       "<table border=\"1\" class=\"dataframe\">\n",
       "  <thead>\n",
       "    <tr style=\"text-align: right;\">\n",
       "      <th></th>\n",
       "      <th>trend_1</th>\n",
       "      <th>log_pr_30_1</th>\n",
       "      <th>pr_so_40d3_1</th>\n",
       "      <th>log_pr_std_10_1</th>\n",
       "      <th>log_pr_std_30_1</th>\n",
       "      <th>rsi_30_1</th>\n",
       "      <th>log_volu_1</th>\n",
       "      <th>volu_z_score_1</th>\n",
       "    </tr>\n",
       "  </thead>\n",
       "  <tbody>\n",
       "    <tr>\n",
       "      <th>0</th>\n",
       "      <td>1.0</td>\n",
       "      <td>0.003507</td>\n",
       "      <td>25.188736</td>\n",
       "      <td>0.000627</td>\n",
       "      <td>0.0014</td>\n",
       "      <td>42.94084</td>\n",
       "      <td>12.586386</td>\n",
       "      <td>-0.319731</td>\n",
       "    </tr>\n",
       "  </tbody>\n",
       "</table>\n",
       "</div>"
      ],
      "text/plain": [
       "   trend_1  log_pr_30_1  pr_so_40d3_1  log_pr_std_10_1  log_pr_std_30_1  \\\n",
       "0      1.0     0.003507     25.188736         0.000627           0.0014   \n",
       "\n",
       "   rsi_30_1  log_volu_1  volu_z_score_1  \n",
       "0  42.94084   12.586386       -0.319731  "
      ]
     },
     "execution_count": 275,
     "metadata": {},
     "output_type": "execute_result"
    }
   ],
   "source": [
    "temp[1]"
   ]
  },
  {
   "cell_type": "code",
   "execution_count": null,
   "metadata": {},
   "outputs": [],
   "source": []
  }
 ],
 "metadata": {
  "interpreter": {
   "hash": "57d879c1bab31ddce3f98747a90aac1ecdf0d747d4f9b6f921c92f41b19b21c9"
  },
  "kernelspec": {
   "display_name": "Python 3.8.12 ('pytorch_env')",
   "language": "python",
   "name": "python3"
  },
  "language_info": {
   "codemirror_mode": {
    "name": "ipython",
    "version": 3
   },
   "file_extension": ".py",
   "mimetype": "text/x-python",
   "name": "python",
   "nbconvert_exporter": "python",
   "pygments_lexer": "ipython3",
   "version": "3.8.12"
  },
  "orig_nbformat": 4
 },
 "nbformat": 4,
 "nbformat_minor": 2
}

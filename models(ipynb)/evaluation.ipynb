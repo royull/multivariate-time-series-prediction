{
 "cells": [
  {
   "cell_type": "code",
   "execution_count": null,
   "metadata": {},
   "outputs": [],
   "source": [
    "def get_r_hat(A, B): \n",
    "    \"\"\"\n",
    "        A: 1440-by-10 dataframe of log prices with columns log_pr_0, ... , log_pr_9\n",
    "        B: 1440-by-10 dataframe of trading volumes with columns volu_0, ... , volu_9    \n",
    "        return: a numpy array of length 10, corresponding to the predictions for the forward 30-minutes returns of assets 0, 1, 2, ..., 9\n",
    "    \"\"\"\n",
    "    \n",
    "    return -(A.iloc[-1] - A.iloc[-30]).values # Use the negative 30-minutes backward log-returns to predict the 30-minutes forward log-returns\n",
    "\n",
    "# Generate r_hat every 10 minutes\n",
    "\n",
    "t0 = time.time()\n",
    "dt = datetime.timedelta(days=1)\n",
    "r_hat = pd.DataFrame(index=log_pr.index[30::10], columns=np.arange(10), dtype=np.float64)\n",
    "for t in log_pr.index[30::10]: # compute the predictions every 10 minutes\n",
    "    r_hat.loc[t, :] = get_r_hat(log_pr.loc[(t - dt):t], volu.loc[(t - dt):t])\n",
    "t_used = time.time() - t0\n",
    "print(t_used)\n",
    "r_hat\n",
    "\n",
    "# Compute true forward log_returns every 10 minutes\n",
    "r_fwd = (log_pr.shift(-30) - log_pr).iloc[30::10].rename(columns={f\"log_pr_{i}\": i for i in range(10)})\n",
    "\n",
    "# Correlation for every asset\n",
    "\n",
    "r_fwd.corrwith(r_hat)\n",
    "\n",
    "# Overall correlation (The ranking is based on this metric on the testing dataset)\n",
    "\n",
    "r_fwd_all = r_fwd.iloc[:-3].values.ravel() # the final 3 rows are NaNs. \n",
    "r_hat_all = r_hat.iloc[:-3].values.ravel()\n",
    "np.corrcoef(r_fwd_all, r_hat_all)[0, 1]"
   ]
  }
 ],
 "metadata": {
  "language_info": {
   "name": "python"
  },
  "orig_nbformat": 4
 },
 "nbformat": 4,
 "nbformat_minor": 2
}

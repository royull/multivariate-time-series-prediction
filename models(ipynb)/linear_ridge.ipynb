{
 "cells": [
  {
   "cell_type": "markdown",
   "metadata": {},
   "source": [
    "# Linear Model"
   ]
  },
  {
   "cell_type": "markdown",
   "metadata": {},
   "source": [
    "The linear method makes use of the log backward return (log price difference) to predict foward return."
   ]
  },
  {
   "cell_type": "markdown",
   "metadata": {},
   "source": [
    "Training:\n",
    "1) Ridge regression: on 30 features\n",
    "2) PC regression: pca on 30 features then perform ols\n",
    "\n",
    "Feature: 10 stocks, each with 3 backward return (say, 3min, 7min, 10min, see correlation to decide)\n",
    "\n",
    "Response: 10 stocks' 30min forward return. \n",
    "\n",
    "Groups: [1,3,5,9],[2,4,7],[0],[3],[9]"
   ]
  },
  {
   "cell_type": "markdown",
   "metadata": {},
   "source": [
    "## Data Preparation"
   ]
  },
  {
   "cell_type": "code",
   "execution_count": 2,
   "metadata": {},
   "outputs": [],
   "source": [
    "import os\n",
    "import datetime\n",
    "import time\n",
    "import pandas as pd\n",
    "import numpy as np\n",
    "import matplotlib.pyplot as plt\n",
    "import seaborn as sns\n",
    "%matplotlib inline \n",
    "\n",
    "log_pr = pd.read_pickle(\"../data/log_price.df\")\n",
    "volu = pd.read_pickle(\"../data/volume_usd.df\")"
   ]
  },
  {
   "cell_type": "code",
   "execution_count": 31,
   "metadata": {},
   "outputs": [],
   "source": [
    "# get feature for train and validation set\n",
    "def wide_format(df):\n",
    "    df_= df.reset_index(level=['stock']).sort_index()\n",
    "    df_ = df_.pivot(columns ='stock')\n",
    "    df_.columns = df_.columns.get_level_values(0) + '_' +  [str(x) for x in df_.columns.get_level_values(1)]\n",
    "\n",
    "    return df_\n",
    "\n",
    "\n",
    "def get_feature_train(log_pr, volu, x_begin_idx, x_end_idx, y_begin_idx, \n",
    "                        grp_idx=None, rm_outlier=False, print_cor=True):\n",
    "    \"\"\"\n",
    "    Input:\n",
    "    log_pr (pdSeries): train set\n",
    "    volu (pdSeries): train set\n",
    "    x_begin_idx (pdIndex): to truncate the NaNs\n",
    "    grp_idx (dict): key is group idx, value is list of stock idx\n",
    "\n",
    "    Returns:\n",
    "    feature_dict (dict): key is group idx, value is a tuple of feature matrix and response\n",
    "    \"\"\"\n",
    "\n",
    "    log_pr_df = log_pr.reset_index().melt(id_vars=['timestamp'])\n",
    "    log_pr_df.columns = ['timestamp', 'stock', 'log_pr']\n",
    "    log_pr_df = log_pr_df.set_index(['timestamp', 'stock']).sort_index()\n",
    "\n",
    "    volu_df = volu.reset_index().melt(id_vars=['timestamp'])\n",
    "    volu_df.columns = ['timestamp', 'stock', 'volu']\n",
    "    volu_df = volu_df.set_index(['timestamp', 'stock']).sort_index()\n",
    "\n",
    "    features = pd.DataFrame(index=log_pr_df.index)\n",
    "    # log_pr feature\n",
    "    for i in [3, 10, 20, 30]:\n",
    "        features['log_pr_{}'.format(i)] = -log_pr_df.groupby(level='stock').log_pr.diff(i)\n",
    "\n",
    "    std_10 = lambda x: x.rolling(10).std()\n",
    "    features['log_pr_std_10'] = log_pr_df.groupby(level='stock').log_pr.apply(std_10)\n",
    "\n",
    "    # volume feature\n",
    "    log_fn = lambda x: np.log(x+1)\n",
    "    features['log_volu'] = volu_df.groupby(level='stock').volu.apply(log_fn)\n",
    "\n",
    "    # stdised volume in 2 hours backward rolling windows\n",
    "    zscore_fn = lambda x: (x - x.rolling(window=240, min_periods=20).mean()) / x.rolling(window=240, min_periods=20).std()\n",
    "    features['volu_z_score'] = volu_df.groupby(level='stock').volu.apply(zscore_fn)\n",
    "\n",
    "    feature_dropped = features[x_begin_idx:x_end_idx]\n",
    "    response_dropped = log_pr.diff(30)[y_begin_idx:]\n",
    "\n",
    "    if grp_idx is not None:\n",
    "        feature_dict = {}\n",
    "        for key, idx_lis in grp_idx.items():\n",
    "            feature_df_dropped = feature_dropped.loc[pd.IndexSlice[:,idx_lis],:]\n",
    "            # transform back to wide format\n",
    "            feature_dict[key] = (wide_format(feature_df_dropped), response_dropped[idx_lis])\n",
    "        return feature_dict\n",
    "    else:\n",
    "        # transform back to wide format\n",
    "        feature_df_dropped = wide_format(feature_dropped)\n",
    "    \n",
    "        if print_cor:\n",
    "            for i in range(10):\n",
    "                feature_train_0 = feature_dropped.xs(i, level='stock')\n",
    "                print(feature_train_0.corrwith(response_dropped[i]))\n",
    "\n",
    "        return feature_df_dropped, response_dropped\n"
   ]
  },
  {
   "cell_type": "code",
   "execution_count": 32,
   "metadata": {},
   "outputs": [],
   "source": [
    "# split into groups\n",
    "grp_idx = {0:[1,4,5,6,8], 1:[2,7], 2:[3], 3:[9]}\n",
    "x_begin_idx = log_pr.index[30]\n",
    "x_end_idx = log_pr.index[-31]\n",
    "y_begin_idx = log_pr.index[60]\n",
    "\n",
    "train_vali_idx = log_pr.index[-44641]\n",
    "feature_dict = get_feature_train(log_pr[:log_pr.index[-44641]], volu[:log_pr.index[-44641]],\n",
    "                                    x_begin_idx, x_end_idx, y_begin_idx, grp_idx=grp_idx)"
   ]
  },
  {
   "cell_type": "code",
   "execution_count": 3,
   "metadata": {},
   "outputs": [],
   "source": [
    "# Data Preparation\n",
    "def logr(dta,min):\n",
    "    return dta.diff(min,0).dropna()\n",
    "x_begin_idx = log_pr.index[30]\n",
    "x_end_idx = log_pr.index[-31]\n",
    "y_begin_idx = log_pr.index[60]\n",
    "group1 = [1,5,6,8]\n",
    "\n",
    "# Group 1: {1,5,6,8}\n",
    "x = pd.concat((logr(log_pr[group1],10)[x_begin_idx:x_end_idx],\n",
    "                logr(log_pr[group1],20)[x_begin_idx:x_end_idx],\n",
    "                logr(log_pr[group1],30)[x_begin_idx:x_end_idx]),axis=1)\n",
    "y = log_pr[group1].diff(30)[y_begin_idx:]\n",
    "y = y.set_index(x.index)\n",
    "\n",
    "xtrain,xvali,xtest = x[:log_pr.index[-87841]],x[log_pr.index[-87840]:log_pr.index[-44641]],x[log_pr.index[-44640]:]\n",
    "ytrain,yvali,ytest= y[:log_pr.index[-87841]],y[log_pr.index[-87840]:log_pr.index[-44641]],y[log_pr.index[-44640]:]"
   ]
  },
  {
   "cell_type": "code",
   "execution_count": 26,
   "metadata": {},
   "outputs": [],
   "source": [
    "# Group 2:\n",
    "group2 = [0, 3]\n",
    "x = pd.concat((logr(log_pr[group2],10)[x_begin_idx:x_end_idx],\n",
    "                logr(log_pr[group2],20)[x_begin_idx:x_end_idx],\n",
    "                logr(log_pr[group2],30)[x_begin_idx:x_end_idx]),axis=1)\n",
    "y = log_pr[group2].diff(30)[y_begin_idx:]\n",
    "y = y.set_index(x.index)\n",
    "\n",
    "xtrain,xvali,xtest = x[:log_pr.index[-87841]],x[log_pr.index[-87840]:log_pr.index[-44641]],x[log_pr.index[-44640]:]\n",
    "ytrain,yvali,ytest= y[:log_pr.index[-87841]],y[log_pr.index[-87840]:log_pr.index[-44641]],y[log_pr.index[-44640]:]"
   ]
  },
  {
   "cell_type": "markdown",
   "metadata": {},
   "source": [
    "## Ridge Regression"
   ]
  },
  {
   "cell_type": "markdown",
   "metadata": {},
   "source": [
    "### Model Tuning (MSE and Correlation) "
   ]
  },
  {
   "cell_type": "code",
   "execution_count": 27,
   "metadata": {},
   "outputs": [
    {
     "data": {
      "text/plain": [
       "[]"
      ]
     },
     "execution_count": 27,
     "metadata": {},
     "output_type": "execute_result"
    },
    {
     "data": {
      "image/png": "[encoded data removed]",
      "text/plain": [
       "<Figure size 432x288 with 1 Axes>"
      ]
     },
     "metadata": {
      "needs_background": "light"
     },
     "output_type": "display_data"
    }
   ],
   "source": [
    "from sklearn.linear_model import Ridge\n",
    "from sklearn.metrics import mean_squared_error\n",
    "\n",
    "alpha_grid = np.logspace(-4,1,10)\n",
    "mse = np.empty(alpha_grid.shape[0])\n",
    "for i in range(alpha_grid.shape[0]):\n",
    "    rr_a = Ridge(alpha=alpha_grid[i]).fit(xtrain,ytrain)\n",
    "    yvali_hat_ridge_a = pd.DataFrame(rr_a.predict(xvali),columns={i for i in group2},index=yvali.index)\n",
    "    mse[i] = mean_squared_error(yvali,yvali_hat_ridge_a)\n",
    "plt.plot(alpha_grid,mse)\n",
    "plt.semilogx()"
   ]
  },
  {
   "cell_type": "code",
   "execution_count": 28,
   "metadata": {},
   "outputs": [
    {
     "name": "stdout",
     "output_type": "stream",
     "text": [
      "10.0\n"
     ]
    }
   ],
   "source": [
    "min_idx = np.argmin(mse)\n",
    "min_alpha = alpha_grid[min_idx]\n",
    "print(min_alpha)"
   ]
  },
  {
   "cell_type": "code",
   "execution_count": 29,
   "metadata": {},
   "outputs": [
    {
     "name": "stdout",
     "output_type": "stream",
     "text": [
      "0    0.038067\n",
      "3    0.017249\n",
      "dtype: float64\n"
     ]
    }
   ],
   "source": [
    "rr = Ridge(alpha=min_alpha).fit(xtrain,ytrain)\n",
    "# 10-minute-rolling 30-min log-return prediction for validation set\n",
    "yvali_hat_ridge = pd.DataFrame(rr.predict(xvali),columns={i for i in group2},index=yvali.index)\n",
    "# compute pairwise correlation\n",
    "print(yvali_hat_ridge.corrwith(yvali[::10]))\n",
    "#print(np.corrcoef(yvali_hat_ridge[::10],yvali[::10])[0,1])\n",
    "# Compute mse\n",
    "#from sklearn.metrics import mean_squared_error\n",
    "#mean_squared_error(yvali,yvali_hat_ridge)"
   ]
  },
  {
   "cell_type": "code",
   "execution_count": 30,
   "metadata": {},
   "outputs": [
    {
     "name": "stdout",
     "output_type": "stream",
     "text": [
      "Time used:  3.337266206741333\n"
     ]
    },
    {
     "data": {
      "text/plain": [
       "0   -0.021089\n",
       "3   -0.001528\n",
       "dtype: float64"
      ]
     },
     "execution_count": 30,
     "metadata": {},
     "output_type": "execute_result"
    }
   ],
   "source": [
    "# Refitting the model with train&vali set\n",
    "rr = Ridge(alpha=min_alpha).fit(pd.concat((xtrain,xvali)),pd.concat((ytrain,yvali)))\n",
    "\n",
    "def get_r_hat(A): \n",
    "    x = pd.concat((A.diff(10,0).iloc[-1],A.diff(20,0).iloc[-1],A.diff(30,0).iloc[-1]))\n",
    "    x = pd.DataFrame(x).transpose()\n",
    "    return rr.predict(x)\n",
    "\n",
    "def evaluate(log_pr_test):\n",
    "    t0 = time.time()\n",
    "    dt = datetime.timedelta(days=1)\n",
    "\n",
    "    r_fwd = (log_pr_test.shift(-30) - log_pr_test).iloc[1440::10]\n",
    "    r_hat = pd.DataFrame(index=log_pr_test.index[1440::10], columns=np.array(group2), dtype=np.float64)\n",
    "\n",
    "    for t in log_pr_test.index[1440::10]: # compute the predictions every 10 minutes\n",
    "        # inputs 1 day of log price and volume\n",
    "        r_hat.loc[t, :] = get_r_hat(log_pr_test.loc[(t - dt):t])\n",
    "    t_used = time.time() - t0\n",
    "    print(\"Time used: \", t_used)\n",
    "\n",
    "    r_fwd_all = r_fwd.iloc[:-3].values.ravel() # the final 3 rows are NaNs. \n",
    "    r_hat_all = r_hat.iloc[:-3].values.ravel()\n",
    "    return r_fwd.corrwith(r_hat)#,np.corrcoef(r_fwd_all, r_hat_all)[0,1]\n",
    "\n",
    "log_pr_test = log_pr[group2][log_pr.index[-44640]:]\n",
    "evaluate(log_pr_test)"
   ]
  },
  {
   "cell_type": "markdown",
   "metadata": {},
   "source": [
    "### Ridge Test Evaluation"
   ]
  },
  {
   "cell_type": "code",
   "execution_count": 20,
   "metadata": {},
   "outputs": [
    {
     "name": "stdout",
     "output_type": "stream",
     "text": [
      "Time used:  3.317732095718384\n"
     ]
    },
    {
     "data": {
      "text/plain": [
       "0    0.014766\n",
       "2   -0.047266\n",
       "3    0.023596\n",
       "7   -0.023641\n",
       "9    0.041775\n",
       "dtype: float64"
      ]
     },
     "execution_count": 20,
     "metadata": {},
     "output_type": "execute_result"
    }
   ],
   "source": [
    "# Refitting the model with train&vali set\n",
    "rr = Ridge(alpha=min_alpha).fit(pd.concat((xtrain,xvali)),pd.concat((ytrain,yvali)))\n",
    "\n",
    "def get_r_hat(A): \n",
    "    x = pd.concat((A.diff(10,0).iloc[-1],A.diff(20,0).iloc[-1],A.diff(30,0).iloc[-1]))\n",
    "    x = pd.DataFrame(x).transpose()\n",
    "    return rr.predict(x)\n",
    "\n",
    "def evaluate(log_pr_test):\n",
    "    t0 = time.time()\n",
    "    dt = datetime.timedelta(days=1)\n",
    "\n",
    "    r_fwd = (log_pr_test.shift(-30) - log_pr_test).iloc[1440::10]\n",
    "    r_hat = pd.DataFrame(index=log_pr_test.index[1440::10], columns=np.array(group2), dtype=np.float64)\n",
    "\n",
    "    for t in log_pr_test.index[1440::10]: # compute the predictions every 10 minutes\n",
    "        # inputs 1 day of log price and volume\n",
    "        r_hat.loc[t, :] = get_r_hat(log_pr_test.loc[(t - dt):t])\n",
    "    t_used = time.time() - t0\n",
    "    print(\"Time used: \", t_used)\n",
    "\n",
    "    r_fwd_all = r_fwd.iloc[:-3].values.ravel() # the final 3 rows are NaNs. \n",
    "    r_hat_all = r_hat.iloc[:-3].values.ravel()\n",
    "    return r_fwd.corrwith(r_hat)#,np.corrcoef(r_fwd_all, r_hat_all)[0,1]\n",
    "\n",
    "log_pr_test = log_pr[group2][log_pr.index[-44640]:]\n",
    "evaluate(log_pr_test)"
   ]
  },
  {
   "cell_type": "code",
   "execution_count": null,
   "metadata": {},
   "outputs": [],
   "source": []
  }
 ],
 "metadata": {
  "interpreter": {
   "hash": "bcbeb1c3c4ccee2109855bb42e1bb012102ee5721b972abedda41e225a004887"
  },
  "kernelspec": {
   "display_name": "Python 3.8.5 ('base')",
   "language": "python",
   "name": "python3"
  },
  "language_info": {
   "codemirror_mode": {
    "name": "ipython",
    "version": 3
   },
   "file_extension": ".py",
   "mimetype": "text/x-python",
   "name": "python",
   "nbconvert_exporter": "python",
   "pygments_lexer": "ipython3",
   "version": "3.8.12"
  },
  "orig_nbformat": 4
 },
 "nbformat": 4,
 "nbformat_minor": 2
}

{
 "cells": [
  {
   "cell_type": "markdown",
   "metadata": {},
   "source": [
    "# Linear Model"
   ]
  },
  {
   "cell_type": "markdown",
   "metadata": {},
   "source": [
    "The linear method makes use of the log backward return (log price difference) to predict foward return."
   ]
  },
  {
   "cell_type": "markdown",
   "metadata": {},
   "source": [
    "Training:\n",
    "1) Ridge regression: on 30 features\n",
    "2) PC regression: pca on 30 features then perform ols\n",
    "\n",
    "Feature: 10 stocks, each with 3 backward return (say, 3min, 7min, 10min, see correlation to decide)\n",
    "\n",
    "Response: 10 stocks' 30min forward return. \n",
    "\n",
    "Groups: [1,3,5,9],[2,4,7],[0],[3],[9]"
   ]
  },
  {
   "cell_type": "markdown",
   "metadata": {},
   "source": [
    "## Data Preparation"
   ]
  },
  {
   "cell_type": "code",
   "execution_count": 2,
   "metadata": {},
   "outputs": [],
   "source": [
    "import os\n",
    "import datetime\n",
    "import time\n",
    "import pandas as pd\n",
    "import numpy as np\n",
    "import matplotlib.pyplot as plt\n",
    "import seaborn as sns\n",
    "%matplotlib inline \n",
    "\n",
    "log_pr = pd.read_pickle(\"../data/log_price.df\")\n",
    "volu = pd.read_pickle(\"../data/volume_usd.df\")"
   ]
  },
  {
   "cell_type": "code",
   "execution_count": 3,
   "metadata": {},
   "outputs": [],
   "source": [
    "def wide_format(df):\n",
    "    df_= df.reset_index(level=['stock']).sort_index()\n",
    "    df_ = df_.pivot(columns ='stock')\n",
    "    df_.columns = df_.columns.get_level_values(0) + '_' +  [str(x) for x in df_.columns.get_level_values(1)]\n",
    "\n",
    "    return df_\n",
    "\n",
    "\n",
    "def get_feature_train(log_pr, volu, x_begin_idx, x_end_idx, y_begin_idx, \n",
    "                        grp_idx=None, rm_outlier=False, print_cor=True):\n",
    "    \"\"\"\n",
    "    Input:\n",
    "    log_pr (pdSeries): train set\n",
    "    volu (pdSeries): train set\n",
    "    x_begin_idx (pdIndex): to truncate the NaNs\n",
    "    grp_idx (dict): key is group idx, value is list of stock idx\n",
    "\n",
    "    Returns:\n",
    "    feature_dict (dict): key is group idx, value is a tuple of feature matrix and response\n",
    "    \"\"\"\n",
    "\n",
    "    log_pr_df = log_pr.reset_index().melt(id_vars=['timestamp'])\n",
    "    log_pr_df.columns = ['timestamp', 'stock', 'log_pr']\n",
    "    log_pr_df = log_pr_df.set_index(['timestamp', 'stock']).sort_index()\n",
    "\n",
    "    volu_df = volu.reset_index().melt(id_vars=['timestamp'])\n",
    "    volu_df.columns = ['timestamp', 'stock', 'volu']\n",
    "    volu_df = volu_df.set_index(['timestamp', 'stock']).sort_index()\n",
    "\n",
    "    features = pd.DataFrame(index=log_pr_df.index)\n",
    "    # log_pr feature\n",
    "    for i in [10, 20, 30]:\n",
    "        features['log_pr_{}'.format(i)] = -log_pr_df.groupby(level='stock').log_pr.diff(i)\n",
    "\n",
    "    std_10 = lambda x: x.rolling(10).std()\n",
    "    features['log_pr_std_10'] = log_pr_df.groupby(level='stock').log_pr.apply(std_10)\n",
    "\n",
    "    # volume feature\n",
    "    log_fn = lambda x: np.log(x+1)\n",
    "    features['log_volu'] = volu_df.groupby(level='stock').volu.apply(log_fn)\n",
    "\n",
    "    # stdised volume in 2 hours backward rolling windows\n",
    "    zscore_fn = lambda x: (x - x.rolling(window=240, min_periods=20).mean()) / x.rolling(window=240, min_periods=20).std()\n",
    "    features['volu_z_score'] = volu_df.groupby(level='stock').volu.apply(zscore_fn)\n",
    "\n",
    "    # feature_dropped = features.iloc[x_begin_idx:x_end_idx]\n",
    "    response = log_pr.diff(30)\n",
    "    # print(features.shape)\n",
    "    # print(feature_dropped.shape)\n",
    "    # print(response_dropped.shape)\n",
    "\n",
    "    if grp_idx is not None:\n",
    "        feature_dict = {}\n",
    "        for key, idx_lis in grp_idx.items():\n",
    "            feature_df_dropped = wide_format(features.loc[pd.IndexSlice[:,idx_lis],:])\n",
    "            # transform back to wide format\n",
    "            feature_dict[key] = (feature_df_dropped.iloc[x_begin_idx:x_end_idx], \n",
    "                                            response[idx_lis].iloc[y_begin_idx:])\n",
    "        return feature_dict\n",
    "    else:\n",
    "        # transform back to wide format\n",
    "        feature_df_dropped = wide_format(features).iloc[x_begin_idx:x_end_idx]\n",
    "        # feature_df_dropped = feature_df[x_begin_idx:x_end_idx]\n",
    "    \n",
    "        if print_cor:\n",
    "            for i in range(10):\n",
    "                feature_train_0 = features.xs(i, level='stock')\n",
    "                print(feature_train_0.corrwith(response[i]))\n",
    "\n",
    "        return feature_df_dropped, response.iloc[y_begin_idx:]"
   ]
  },
  {
   "cell_type": "code",
   "execution_count": 43,
   "metadata": {},
   "outputs": [
    {
     "name": "stdout",
     "output_type": "stream",
     "text": [
      "log_pr_10       -0.566440\n",
      "log_pr_20       -0.807458\n",
      "log_pr_30       -1.000000\n",
      "log_pr_std_10    0.294352\n",
      "log_volu         0.137962\n",
      "volu_z_score     0.157233\n",
      "dtype: float64\n",
      "log_pr_10       -0.564339\n",
      "log_pr_20       -0.810175\n",
      "log_pr_30       -1.000000\n",
      "log_pr_std_10    0.353098\n",
      "log_volu         0.138490\n",
      "volu_z_score     0.188771\n",
      "dtype: float64\n",
      "log_pr_10       -0.566170\n",
      "log_pr_20       -0.811186\n",
      "log_pr_30       -1.000000\n",
      "log_pr_std_10    0.308044\n",
      "log_volu         0.087845\n",
      "volu_z_score     0.168640\n",
      "dtype: float64\n",
      "log_pr_10       -0.557927\n",
      "log_pr_20       -0.798424\n",
      "log_pr_30       -1.000000\n",
      "log_pr_std_10    0.320963\n",
      "log_volu         0.143790\n",
      "volu_z_score     0.148591\n",
      "dtype: float64\n",
      "log_pr_10       -0.540513\n",
      "log_pr_20       -0.782071\n",
      "log_pr_30       -1.000000\n",
      "log_pr_std_10    0.173689\n",
      "log_volu         0.084277\n",
      "volu_z_score     0.092012\n",
      "dtype: float64\n",
      "log_pr_10       -0.569446\n",
      "log_pr_20       -0.805383\n",
      "log_pr_30       -1.000000\n",
      "log_pr_std_10    0.251723\n",
      "log_volu         0.137177\n",
      "volu_z_score     0.159583\n",
      "dtype: float64\n",
      "log_pr_10       -0.559884\n",
      "log_pr_20       -0.800046\n",
      "log_pr_30       -1.000000\n",
      "log_pr_std_10    0.334323\n",
      "log_volu         0.115137\n",
      "volu_z_score     0.148388\n",
      "dtype: float64\n",
      "log_pr_10       -0.554904\n",
      "log_pr_20       -0.791840\n",
      "log_pr_30       -1.000000\n",
      "log_pr_std_10    0.240905\n",
      "log_volu         0.138887\n",
      "volu_z_score     0.145879\n",
      "dtype: float64\n",
      "log_pr_10       -0.554131\n",
      "log_pr_20       -0.799655\n",
      "log_pr_30       -1.000000\n",
      "log_pr_std_10    0.173615\n",
      "log_volu         0.127240\n",
      "volu_z_score     0.127015\n",
      "dtype: float64\n",
      "log_pr_10       -0.570810\n",
      "log_pr_20       -0.813818\n",
      "log_pr_30       -1.000000\n",
      "log_pr_std_10    0.112637\n",
      "log_volu         0.135982\n",
      "volu_z_score     0.137459\n",
      "dtype: float64\n",
      "log_pr_10       -0.563332\n",
      "log_pr_20       -0.803874\n",
      "log_pr_30       -1.000000\n",
      "log_pr_std_10    0.196631\n",
      "log_volu         0.093096\n",
      "volu_z_score     0.111678\n",
      "dtype: float64\n",
      "log_pr_10       -0.540016\n",
      "log_pr_20       -0.791491\n",
      "log_pr_30       -1.000000\n",
      "log_pr_std_10    0.381403\n",
      "log_volu         0.152052\n",
      "volu_z_score     0.194650\n",
      "dtype: float64\n",
      "log_pr_10       -0.577889\n",
      "log_pr_20       -0.818581\n",
      "log_pr_30       -1.000000\n",
      "log_pr_std_10    0.195770\n",
      "log_volu         0.119048\n",
      "volu_z_score     0.142598\n",
      "dtype: float64\n",
      "log_pr_10       -0.580013\n",
      "log_pr_20       -0.818158\n",
      "log_pr_30       -1.000000\n",
      "log_pr_std_10    0.247320\n",
      "log_volu         0.143992\n",
      "volu_z_score     0.131911\n",
      "dtype: float64\n",
      "log_pr_10       -0.580359\n",
      "log_pr_20       -0.817030\n",
      "log_pr_30       -1.000000\n",
      "log_pr_std_10    0.289105\n",
      "log_volu         0.097689\n",
      "volu_z_score     0.106993\n",
      "dtype: float64\n",
      "log_pr_10       -0.559972\n",
      "log_pr_20       -0.814153\n",
      "log_pr_30       -1.000000\n",
      "log_pr_std_10    0.268131\n",
      "log_volu         0.141374\n",
      "volu_z_score     0.134349\n",
      "dtype: float64\n",
      "log_pr_10       -0.559516\n",
      "log_pr_20       -0.789712\n",
      "log_pr_30       -1.000000\n",
      "log_pr_std_10    0.283485\n",
      "log_volu         0.107508\n",
      "volu_z_score     0.131378\n",
      "dtype: float64\n",
      "log_pr_10       -0.576872\n",
      "log_pr_20       -0.815084\n",
      "log_pr_30       -1.000000\n",
      "log_pr_std_10    0.293596\n",
      "log_volu         0.162396\n",
      "volu_z_score     0.161214\n",
      "dtype: float64\n",
      "log_pr_10       -0.536371\n",
      "log_pr_20       -0.787484\n",
      "log_pr_30       -1.000000\n",
      "log_pr_std_10    0.345587\n",
      "log_volu         0.172044\n",
      "volu_z_score     0.198163\n",
      "dtype: float64\n",
      "log_pr_10       -0.551844\n",
      "log_pr_20       -0.798653\n",
      "log_pr_30       -1.000000\n",
      "log_pr_std_10    0.217300\n",
      "log_volu         0.158015\n",
      "volu_z_score     0.166736\n",
      "dtype: float64\n"
     ]
    }
   ],
   "source": [
    "grp_idx = {0:[1,5,6,8], 1:[0,2,3,4,7,9]}\n",
    "\n",
    "x_begin_idx = 30\n",
    "x_end_idx = -30\n",
    "y_begin_idx = 60\n",
    "\n",
    "train_split_t = log_pr.index[-87841]\n",
    "vali_split_t = log_pr.index[-44641]\n",
    "\n",
    "train_feature_dict = get_feature_train(log_pr[:train_split_t], volu[:train_split_t], x_begin_idx, x_end_idx, y_begin_idx,\n",
    "                                        grp_idx=None, print_cor=False)\n",
    "\n",
    "vali_feature_dict = get_feature_train(log_pr[train_split_t:vali_split_t], volu[train_split_t:vali_split_t], x_begin_idx, x_end_idx, y_begin_idx,\n",
    "                                        grp_idx=None,print_cor=False)"
   ]
  },
  {
   "cell_type": "markdown",
   "metadata": {},
   "source": [
    "### Modelling"
   ]
  },
  {
   "cell_type": "code",
   "execution_count": 5,
   "metadata": {},
   "outputs": [],
   "source": [
    "from sklearn.linear_model import Ridge\n",
    "from sklearn.metrics import mean_squared_error"
   ]
  },
  {
   "cell_type": "code",
   "execution_count": 45,
   "metadata": {},
   "outputs": [
    {
     "ename": "AttributeError",
     "evalue": "'tuple' object has no attribute 'get'",
     "output_type": "error",
     "traceback": [
      "\u001b[0;31m---------------------------------------------------------------------------\u001b[0m",
      "\u001b[0;31mAttributeError\u001b[0m                            Traceback (most recent call last)",
      "\u001b[0;32m/var/folders/mk/v7mw8qg94t501xmh6h0x7d8m0000gs/T/ipykernel_78614/2622561915.py\u001b[0m in \u001b[0;36m<module>\u001b[0;34m\u001b[0m\n\u001b[1;32m      1\u001b[0m \u001b[0;31m# train\u001b[0m\u001b[0;34m\u001b[0m\u001b[0;34m\u001b[0m\u001b[0;34m\u001b[0m\u001b[0m\n\u001b[1;32m      2\u001b[0m \u001b[0mgrp\u001b[0m \u001b[0;34m=\u001b[0m \u001b[0;36m0\u001b[0m\u001b[0;34m\u001b[0m\u001b[0;34m\u001b[0m\u001b[0m\n\u001b[0;32m----> 3\u001b[0;31m \u001b[0mxtrain\u001b[0m\u001b[0;34m,\u001b[0m \u001b[0mytrain\u001b[0m \u001b[0;34m=\u001b[0m \u001b[0mtrain_feature_dict\u001b[0m\u001b[0;34m.\u001b[0m\u001b[0mget\u001b[0m\u001b[0;34m(\u001b[0m\u001b[0mgrp\u001b[0m\u001b[0;34m)\u001b[0m\u001b[0;34m\u001b[0m\u001b[0;34m\u001b[0m\u001b[0m\n\u001b[0m\u001b[1;32m      4\u001b[0m \u001b[0mxvali\u001b[0m\u001b[0;34m,\u001b[0m \u001b[0myvali\u001b[0m \u001b[0;34m=\u001b[0m \u001b[0mvali_feature_dict\u001b[0m\u001b[0;34m.\u001b[0m\u001b[0mget\u001b[0m\u001b[0;34m(\u001b[0m\u001b[0mgrp\u001b[0m\u001b[0;34m)\u001b[0m\u001b[0;34m\u001b[0m\u001b[0;34m\u001b[0m\u001b[0m\n",
      "\u001b[0;31mAttributeError\u001b[0m: 'tuple' object has no attribute 'get'"
     ]
    }
   ],
   "source": [
    "# # train\n",
    "# grp = 0\n",
    "# xtrain, ytrain = train_feature_dict.get(grp)\n",
    "# xvali, yvali = vali_feature_dict.get(grp)"
   ]
  },
  {
   "cell_type": "code",
   "execution_count": 23,
   "metadata": {},
   "outputs": [
    {
     "data": {
      "text/plain": [
       "(177060, 24)"
      ]
     },
     "execution_count": 23,
     "metadata": {},
     "output_type": "execute_result"
    }
   ],
   "source": [
    "# xtrain.shape"
   ]
  },
  {
   "cell_type": "code",
   "execution_count": 24,
   "metadata": {},
   "outputs": [
    {
     "data": {
      "text/plain": [
       "(43141, 4)"
      ]
     },
     "execution_count": 24,
     "metadata": {},
     "output_type": "execute_result"
    }
   ],
   "source": [
    "# yvali.shape"
   ]
  },
  {
   "cell_type": "code",
   "execution_count": 47,
   "metadata": {},
   "outputs": [],
   "source": [
    "xtrain, ytrain = train_feature_dict\n",
    "xvali, yvali = vali_feature_dict"
   ]
  },
  {
   "cell_type": "code",
   "execution_count": 53,
   "metadata": {},
   "outputs": [],
   "source": [
    "alpha_grid = np.logspace(-4, 1, 15)\n",
    "n = ytrain.shape[1]\n",
    "mse = []\n",
    "for i in range(len(alpha_grid)):\n",
    "    rr_a = Ridge(alpha=alpha_grid[i]).fit(xtrain,ytrain)\n",
    "    yvali_hat_ridge_a = pd.DataFrame(rr_a.predict(xvali),columns={i for i in range(n)},index=yvali.index)\n",
    "    mse.append(mean_squared_error(yvali, yvali_hat_ridge_a))"
   ]
  },
  {
   "cell_type": "code",
   "execution_count": 55,
   "metadata": {},
   "outputs": [
    {
     "data": {
      "image/png": "[encoded data removed]",
      "text/plain": [
       "<Figure size 432x288 with 1 Axes>"
      ]
     },
     "metadata": {
      "needs_background": "light"
     },
     "output_type": "display_data"
    }
   ],
   "source": [
    "plt.plot(alpha_grid, mse)\n",
    "plt.xscale('log')"
   ]
  },
  {
   "cell_type": "code",
   "execution_count": 56,
   "metadata": {},
   "outputs": [],
   "source": [
    "# alpha_grid = np.logspace(-4, 1, 15)\n",
    "# mse = np.empty(alpha_grid.shape[0])\n",
    "# for i in range(alpha_grid.shape[0]):\n",
    "#     rr_a = Ridge(alpha=alpha_grid[i]).fit(xtrain,ytrain)\n",
    "#     yvali_hat_ridge_a = pd.DataFrame(rr_a.predict(xvali),columns={i for i in grp_idx.get(grp)},index=yvali.index)\n",
    "#     mse[i] = mean_squared_error(yvali,yvali_hat_ridge_a)\n",
    "\n",
    "# plt.plot(alpha_grid, mse)\n",
    "# plt.xscale('log')"
   ]
  },
  {
   "cell_type": "code",
   "execution_count": 57,
   "metadata": {},
   "outputs": [
    {
     "name": "stdout",
     "output_type": "stream",
     "text": [
      "10.0\n"
     ]
    }
   ],
   "source": [
    "min_idx = np.argmin(mse)\n",
    "min_alpha = alpha_grid[min_idx]\n",
    "print(min_alpha)"
   ]
  },
  {
   "cell_type": "code",
   "execution_count": 59,
   "metadata": {},
   "outputs": [],
   "source": [
    "rr = Ridge(alpha=min_alpha).fit(xtrain, ytrain)\n",
    "# 10-minute-rolling 30-min log-return prediction for validation set\n",
    "yvali_hat_ridge = pd.DataFrame(rr.predict(xvali),columns={i for i in range(n)},index=yvali.index)\n",
    "# compute pairwise correlation"
   ]
  },
  {
   "cell_type": "code",
   "execution_count": 60,
   "metadata": {},
   "outputs": [],
   "source": [
    "# rr = Ridge(alpha=min_alpha).fit(xtrain, ytrain)\n",
    "# # 10-minute-rolling 30-min log-return prediction for validation set\n",
    "# yvali_hat_ridge = pd.DataFrame(rr.predict(xvali),columns={i for i in grp_idx.get(grp)},index=yvali.index)\n",
    "# # compute pairwise correlation"
   ]
  },
  {
   "cell_type": "code",
   "execution_count": 61,
   "metadata": {},
   "outputs": [
    {
     "name": "stdout",
     "output_type": "stream",
     "text": [
      "(43141, 10)\n",
      "(43141, 10)\n"
     ]
    }
   ],
   "source": [
    "print(yvali_hat_ridge.shape)\n",
    "print(yvali.shape)"
   ]
  },
  {
   "cell_type": "code",
   "execution_count": 62,
   "metadata": {},
   "outputs": [
    {
     "name": "stdout",
     "output_type": "stream",
     "text": [
      "0    0.050406\n",
      "1    0.086153\n",
      "2    0.033008\n",
      "3    0.005980\n",
      "4    0.026263\n",
      "5    0.014712\n",
      "6    0.018286\n",
      "7    0.005698\n",
      "8    0.068812\n",
      "9    0.051521\n",
      "dtype: float64\n"
     ]
    }
   ],
   "source": [
    "print(yvali_hat_ridge.corrwith(yvali))\n",
    "# print(np.corrcoef(yvali_hat_ridge, yvali))"
   ]
  },
  {
   "cell_type": "code",
   "execution_count": 63,
   "metadata": {},
   "outputs": [],
   "source": [
    "rr = Ridge(alpha=min_alpha).fit(pd.concat((xtrain,xvali)),pd.concat((ytrain,yvali)))"
   ]
  },
  {
   "cell_type": "code",
   "execution_count": 32,
   "metadata": {},
   "outputs": [],
   "source": [
    "# # Data Preparation\n",
    "# def logr(dta,min):\n",
    "#     return dta.diff(min,0).dropna()\n",
    "# x_begin_idx = log_pr.index[30]\n",
    "# x_end_idx = log_pr.index[-31]\n",
    "# y_begin_idx = log_pr.index[60]\n",
    "# group1 = [1,5,6,8]\n",
    "\n",
    "# # Group 1: {1,5,6,8}\n",
    "# x = pd.concat((logr(log_pr[group1],10)[x_begin_idx:x_end_idx],\n",
    "#                 logr(log_pr[group1],20)[x_begin_idx:x_end_idx],\n",
    "#                 logr(log_pr[group1],30)[x_begin_idx:x_end_idx]),axis=1)\n",
    "# y = log_pr[group1].diff(30)[y_begin_idx:]\n",
    "# y = y.set_index(x.index)\n",
    "\n",
    "# xtrain,xvali,xtest = x[:log_pr.index[-87841]],x[log_pr.index[-87840]:log_pr.index[-44641]],x[log_pr.index[-44640]:]\n",
    "# ytrain,yvali,ytest= y[:log_pr.index[-87841]],y[log_pr.index[-87840]:log_pr.index[-44641]],y[log_pr.index[-44640]:]"
   ]
  },
  {
   "cell_type": "code",
   "execution_count": 33,
   "metadata": {},
   "outputs": [],
   "source": [
    "# # Group 2:\n",
    "# group2 = [0,2,3,7,9]\n",
    "# x = pd.concat((logr(log_pr[group2],10)[x_begin_idx:x_end_idx],\n",
    "#                 logr(log_pr[group2],20)[x_begin_idx:x_end_idx],\n",
    "#                 logr(log_pr[group2],30)[x_begin_idx:x_end_idx]),axis=1)\n",
    "# y = log_pr[group2].diff(30)[y_begin_idx:]\n",
    "# y = y.set_index(x.index)\n",
    "\n",
    "# xtrain,xvali,xtest = x[:log_pr.index[-87841]],x[log_pr.index[-87840]:log_pr.index[-44641]],x[log_pr.index[-44640]:]\n",
    "# ytrain,yvali,ytest= y[:log_pr.index[-87841]],y[log_pr.index[-87840]:log_pr.index[-44641]],y[log_pr.index[-44640]:]"
   ]
  },
  {
   "cell_type": "markdown",
   "metadata": {},
   "source": [
    "### Evaluation"
   ]
  },
  {
   "cell_type": "code",
   "execution_count": 34,
   "metadata": {},
   "outputs": [],
   "source": [
    "# def get_r_hat(A): \n",
    "#     x = pd.concat((A.diff(10,0).iloc[-1],A.diff(20,0).iloc[-1],A.diff(30,0).iloc[-1]))\n",
    "#     x = pd.DataFrame(x).transpose()\n",
    "#     return rr.predict(x)"
   ]
  },
  {
   "cell_type": "code",
   "execution_count": 35,
   "metadata": {},
   "outputs": [],
   "source": [
    "def wide_format_test(df):\n",
    "    df_= df.reset_index()\n",
    "    df_ = df_.pivot(columns ='index').apply(lambda s: s.dropna().reset_index(drop=True))\n",
    "    df_.columns = df_.columns.get_level_values(0) + '_' +  [str(x) for x in df_.columns.get_level_values(1)]\n",
    "\n",
    "    return df_\n",
    "\n",
    "def get_feature_test(log_pr, volu, grp_idx=None):\n",
    "    \"\"\"\n",
    "    Input: \n",
    "    log_pr (pdSeries): 1 day of log pr \n",
    "    volu (pdSeries): 1 day of volume\n",
    "\n",
    "    Output:\n",
    "    test data frame\n",
    "    \"\"\"\n",
    "    features = pd.DataFrame(index=log_pr.columns)\n",
    "\n",
    "    # backward return\n",
    "    # print(-(log_pr.iloc[-1] - log_pr.iloc[-30]).values)\n",
    "    for i in [10, 20, 30]:\n",
    "        features['log_pr_{}'.format(i)] = -(log_pr.iloc[-1] - log_pr.iloc[-i]).values\n",
    "    # backward rolling std\n",
    "    features['log_pr_std_10'] = log_pr.iloc[-10:].std(0).values\n",
    "    \n",
    "    # volume features\n",
    "    features['log_volu'] = np.log(volu.iloc[-1].values + 1)\n",
    "    features['volu_z_score'] = ((volu.iloc[-1] - volu.iloc[-240:].mean())/volu.iloc[-240:].std()).values\n",
    "\n",
    "    if grp_idx is None:\n",
    "        return wide_format_test(features)\n",
    "    else:\n",
    "        df_dict = {}\n",
    "        for key, idx_lis in grp_idx.items():\n",
    "            df_dict[key] = wide_format_test(features.loc[idx_lis])\n",
    "        return df_dict\n"
   ]
  },
  {
   "cell_type": "markdown",
   "metadata": {},
   "source": [
    "for now, since we are testing the code, we do not specify for the grp."
   ]
  },
  {
   "cell_type": "code",
   "execution_count": 36,
   "metadata": {},
   "outputs": [],
   "source": [
    "def get_r_hat_tune(A, B):\n",
    "    # grp_idx = {0:[1,5,6,8], 1:[0,2,3,4,7,9]}\n",
    "    x = get_feature_test(A, B)\n",
    "    return rr.predict(x)"
   ]
  },
  {
   "cell_type": "code",
   "execution_count": 37,
   "metadata": {},
   "outputs": [],
   "source": [
    "def evaluate_tune(log_pr_test, volu_test):\n",
    "\n",
    "    t0 = time.time()\n",
    "    dt = datetime.timedelta(days=1)\n",
    "\n",
    "    r_fwd = (log_pr_test.shift(-30) - log_pr_test).iloc[1440::10]\n",
    "    # r_fwd = return_true.iloc[1440::10]\n",
    "    # r_fwd.index = log_pr_test.index[1440::10]\n",
    "    r_hat = pd.DataFrame(index=log_pr_test.index[1440::10], columns=log_pr_test.columns, dtype=np.float64)\n",
    "\n",
    "    for t in log_pr_test.index[1440::10]: # compute the predictions every 10 minutes\n",
    "        # inputs 1 day of log price and volume\n",
    "        r_hat.loc[t, :] = get_r_hat_tune(log_pr_test.loc[(t - dt):t], volu_test.loc[(t - dt):t])\n",
    "    t_used = time.time() - t0\n",
    "    print(\"Time used: \", t_used)\n",
    "\n",
    "    r_fwd_all = r_fwd.iloc[:-3].values.ravel() # the final 3 rows are NaNs. \n",
    "    r_hat_all = r_hat.iloc[:-3].values.ravel()\n",
    "    return r_fwd.corrwith(r_hat), np.corrcoef(r_fwd_all, r_hat_all)[0,1]"
   ]
  },
  {
   "cell_type": "code",
   "execution_count": 38,
   "metadata": {},
   "outputs": [],
   "source": [
    "# grp = 0\n",
    "# log_pr_test = log_pr[grp_idx.get(grp)][vali_split_t:]\n",
    "# volu_test = volu[grp_idx.get(grp)][vali_split_t:]"
   ]
  },
  {
   "cell_type": "code",
   "execution_count": 64,
   "metadata": {},
   "outputs": [],
   "source": [
    "log_pr_test = log_pr[vali_split_t:]\n",
    "volu_test = volu[vali_split_t:]"
   ]
  },
  {
   "cell_type": "code",
   "execution_count": 70,
   "metadata": {},
   "outputs": [
    {
     "data": {
      "text/plain": [
       "(21888, 10)"
      ]
     },
     "execution_count": 70,
     "metadata": {},
     "output_type": "execute_result"
    }
   ],
   "source": [
    "log_pr_train_vali.iloc[1440::10].shape"
   ]
  },
  {
   "cell_type": "code",
   "execution_count": 65,
   "metadata": {},
   "outputs": [
    {
     "name": "stdout",
     "output_type": "stream",
     "text": [
      "Time used:  30.062096118927002\n"
     ]
    },
    {
     "data": {
      "text/plain": [
       "(0    0.036005\n",
       " 1    0.065510\n",
       " 2    0.026830\n",
       " 3   -0.003274\n",
       " 4    0.104775\n",
       " 5    0.079153\n",
       " 6    0.020146\n",
       " 7    0.037946\n",
       " 8    0.154884\n",
       " 9    0.078595\n",
       " dtype: float64,\n",
       " 0.04349823016048982)"
      ]
     },
     "execution_count": 65,
     "metadata": {},
     "output_type": "execute_result"
    }
   ],
   "source": [
    "evaluate_tune(log_pr_test, volu_test)"
   ]
  },
  {
   "cell_type": "code",
   "execution_count": 66,
   "metadata": {},
   "outputs": [],
   "source": [
    "log_pr_train_vali = log_pr[:vali_split_t]\n",
    "volu_train_vali = volu[:vali_split_t]"
   ]
  },
  {
   "cell_type": "code",
   "execution_count": 67,
   "metadata": {},
   "outputs": [],
   "source": [
    "# log_pr_train_vali = log_pr[grp_idx.get(grp)][:vali_split_t]\n",
    "# volu_train_vali = volu[grp_idx.get(grp)][:vali_split_t]"
   ]
  },
  {
   "cell_type": "code",
   "execution_count": 68,
   "metadata": {},
   "outputs": [
    {
     "name": "stdout",
     "output_type": "stream",
     "text": [
      "Time used:  149.79325413703918\n"
     ]
    },
    {
     "data": {
      "text/plain": [
       "(0    0.062874\n",
       " 1    0.085616\n",
       " 2    0.058931\n",
       " 3    0.071948\n",
       " 4    0.118117\n",
       " 5    0.066514\n",
       " 6    0.079066\n",
       " 7    0.051926\n",
       " 8    0.097029\n",
       " 9    0.091457\n",
       " dtype: float64,\n",
       " 0.07541976051201424)"
      ]
     },
     "execution_count": 68,
     "metadata": {},
     "output_type": "execute_result"
    }
   ],
   "source": [
    "evaluate_tune(log_pr_train_vali, volu_train_vali)"
   ]
  },
  {
   "cell_type": "markdown",
   "metadata": {},
   "source": [
    "## Ridge Regression"
   ]
  },
  {
   "cell_type": "markdown",
   "metadata": {},
   "source": [
    "### Model Tuning (MSE and Correlation) "
   ]
  },
  {
   "cell_type": "code",
   "execution_count": 71,
   "metadata": {},
   "outputs": [
    {
     "data": {
      "text/plain": [
       "[<matplotlib.lines.Line2D at 0x1560052cd30>]"
      ]
     },
     "execution_count": 71,
     "metadata": {},
     "output_type": "execute_result"
    },
    {
     "data": {
      "image/png": "[encoded data removed]",
      "text/plain": [
       "<Figure size 432x288 with 1 Axes>"
      ]
     },
     "metadata": {
      "needs_background": "light"
     },
     "output_type": "display_data"
    }
   ],
   "source": [
    "from sklearn.linear_model import Ridge\n",
    "from sklearn.metrics import mean_squared_error\n",
    "\n",
    "alpha_grid = np.array([0.01,0.05,0.1,0.5,1,2,3,4,5,6,7,8,9,10])\n",
    "mse = np.empty(alpha_grid.shape[0])\n",
    "for i in range(alpha_grid.shape[0]):\n",
    "    rr_a = Ridge(alpha=alpha_grid[i]).fit(xtrain,ytrain)\n",
    "    yvali_hat_ridge_a = pd.DataFrame(rr_a.predict(xvali),columns={i for i in group2},index=yvali.index)\n",
    "    mse[i] = mean_squared_error(yvali,yvali_hat_ridge_a)\n",
    "plt.plot(alpha_grid,mse)"
   ]
  },
  {
   "cell_type": "code",
   "execution_count": 72,
   "metadata": {},
   "outputs": [
    {
     "name": "stdout",
     "output_type": "stream",
     "text": [
      "0    0.062328\n",
      "2   -0.009268\n",
      "dtype: float64\n"
     ]
    }
   ],
   "source": [
    "rr = Ridge(alpha=10).fit(xtrain,ytrain)\n",
    "# 10-minute-rolling 30-min log-return prediction for validation set\n",
    "yvali_hat_ridge = pd.DataFrame(rr.predict(xvali),columns={i for i in group2},index=yvali.index)\n",
    "# compute pairwise correlation\n",
    "print(yvali_hat_ridge.corrwith(yvali[::10]))\n",
    "#print(np.corrcoef(yvali_hat_ridge[::10],yvali[::10])[0,1])\n",
    "# Compute mse\n",
    "#from sklearn.metrics import mean_squared_error\n",
    "#mean_squared_error(yvali,yvali_hat_ridge)"
   ]
  },
  {
   "cell_type": "markdown",
   "metadata": {},
   "source": [
    "### Ridge Test Evaluation"
   ]
  },
  {
   "cell_type": "code",
   "execution_count": 96,
   "metadata": {},
   "outputs": [
    {
     "name": "stdout",
     "output_type": "stream",
     "text": [
      "Time used:  13.267999649047852\n"
     ]
    },
    {
     "data": {
      "text/plain": [
       "4    0.057132\n",
       "7    0.002223\n",
       "dtype: float64"
      ]
     },
     "execution_count": 96,
     "metadata": {},
     "output_type": "execute_result"
    }
   ],
   "source": [
    "# Refitting the model with train&vali set\n",
    "rr = Ridge(alpha=12).fit(pd.concat((xtrain,xvali)),pd.concat((ytrain,yvali)))\n",
    "\n",
    "def get_r_hat(A): \n",
    "    x = pd.concat((A.diff(10,0).iloc[-1],A.diff(20,0).iloc[-1],A.diff(30,0).iloc[-1]))\n",
    "    x = pd.DataFrame(x).transpose()\n",
    "    return rr.predict(x)\n",
    "\n",
    "def evaluate(log_pr_test):\n",
    "    t0 = time.time()\n",
    "    dt = datetime.timedelta(days=1)\n",
    "\n",
    "    r_fwd = (log_pr_test.shift(-30) - log_pr_test).iloc[1440::10]\n",
    "    r_hat = pd.DataFrame(index=log_pr_test.index[1440::10], columns=np.array(group2), dtype=np.float64)\n",
    "\n",
    "    for t in log_pr_test.index[1440::10]: # compute the predictions every 10 minutes\n",
    "        # inputs 1 day of log price and volume\n",
    "        r_hat.loc[t, :] = get_r_hat(log_pr_test.loc[(t - dt):t])\n",
    "    t_used = time.time() - t0\n",
    "    print(\"Time used: \", t_used)\n",
    "\n",
    "    r_fwd_all = r_fwd.iloc[:-3].values.ravel() # the final 3 rows are NaNs. \n",
    "    r_hat_all = r_hat.iloc[:-3].values.ravel()\n",
    "    return r_fwd.corrwith(r_hat)#,np.corrcoef(r_fwd_all, r_hat_all)[0,1]\n",
    "\n",
    "log_pr_test = log_pr[group2][log_pr.index[-44640]:]\n",
    "evaluate(log_pr_test)"
   ]
  }
 ],
 "metadata": {
  "interpreter": {
   "hash": "bcbeb1c3c4ccee2109855bb42e1bb012102ee5721b972abedda41e225a004887"
  },
  "kernelspec": {
   "display_name": "Python 3.8.5 ('base')",
   "language": "python",
   "name": "python3"
  },
  "language_info": {
   "codemirror_mode": {
    "name": "ipython",
    "version": 3
   },
   "file_extension": ".py",
   "mimetype": "text/x-python",
   "name": "python",
   "nbconvert_exporter": "python",
   "pygments_lexer": "ipython3",
   "version": "3.8.12"
  },
  "orig_nbformat": 4
 },
 "nbformat": 4,
 "nbformat_minor": 2
}

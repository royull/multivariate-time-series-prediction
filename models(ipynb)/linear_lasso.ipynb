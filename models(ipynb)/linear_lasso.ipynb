{
 "cells": [
  {
   "cell_type": "markdown",
   "metadata": {},
   "source": [
    "## Data Preparation"
   ]
  },
  {
   "cell_type": "code",
   "execution_count": null,
   "metadata": {},
   "outputs": [],
   "source": [
    "import os\n",
    "import datetime\n",
    "import time\n",
    "import pandas as pd\n",
    "import numpy as np\n",
    "import matplotlib.pyplot as plt\n",
    "import seaborn as sns\n",
    "%matplotlib inline \n",
    "\n",
    "log_pr = pd.read_pickle(\"../data/log_price.df\")\n",
    "volu = pd.read_pickle(\"../data/volume_usd.df\")\n",
    "\n",
    "# Data Preparation\n",
    "def logr(dta,min):\n",
    "    return dta.diff(min,0).dropna()\n",
    "x_begin_idx = log_pr.index[30]\n",
    "x_end_idx = log_pr.index[-31]\n",
    "y_begin_idx = log_pr.index[60]\n",
    "group2 = [0,2,3,7,9]\n",
    "\n",
    "# Group 1: {1,4,5,6,8}\n",
    "x = pd.concat((logr(log_pr[group2],10)[x_begin_idx:x_end_idx],\n",
    "                logr(log_pr[group2],20)[x_begin_idx:x_end_idx],\n",
    "                logr(log_pr[group2],30)[x_begin_idx:x_end_idx]),axis=1)\n",
    "y = log_pr[group2].diff(30)[y_begin_idx:]\n",
    "y = y.set_index(x.index)\n",
    "\n",
    "xtrain,xvali,xtest = x[:log_pr.index[-87841]],x[log_pr.index[-87840]:log_pr.index[-44641]],x[log_pr.index[-44640]:]\n",
    "ytrain,yvali,ytest= y[:log_pr.index[-87841]],y[log_pr.index[-87840]:log_pr.index[-44641]],y[log_pr.index[-44640]:]"
   ]
  }
 ],
 "metadata": {
  "language_info": {
   "name": "python"
  },
  "orig_nbformat": 4
 },
 "nbformat": 4,
 "nbformat_minor": 2
}

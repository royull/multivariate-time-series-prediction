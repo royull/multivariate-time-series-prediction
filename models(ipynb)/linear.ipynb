{
 "cells": [
  {
   "cell_type": "markdown",
   "metadata": {},
   "source": [
    "# Linear Model with AIC feature engineering"
   ]
  },
  {
   "cell_type": "markdown",
   "metadata": {},
   "source": [
    "The linear method makes use of the log backward return (log price difference) to predict foward return, thus decide log price."
   ]
  },
  {
   "cell_type": "markdown",
   "metadata": {},
   "source": [
    "Training:\n",
    "1) Ridge regression: on 30 features\n",
    "2) PC regression: pca on 30 features then perform ols\n",
    "\n",
    "Feature: 10 stocks, each with 3 backward return (say, 3min, 7min, 10min, see rolling cross cor)\n",
    "\n",
    "Response: do 10 regression, each for 1 stock. "
   ]
  },
  {
   "cell_type": "markdown",
   "metadata": {},
   "source": [
    "## Data Preparation"
   ]
  },
  {
   "cell_type": "code",
   "execution_count": 1,
   "metadata": {},
   "outputs": [],
   "source": [
    "import os\n",
    "import datetime\n",
    "import time\n",
    "import pandas as pd\n",
    "import numpy as np\n",
    "import matplotlib.pyplot as plt\n",
    "import seaborn as sns\n",
    "%matplotlib inline \n",
    "\n",
    "log_pr = pd.read_pickle(\"../data/log_price.df\")\n",
    "volu = pd.read_pickle(\"../data/volume_usd.df\")"
   ]
  },
  {
   "cell_type": "code",
   "execution_count": 10,
   "metadata": {},
   "outputs": [],
   "source": [
    "# Data Preparation\n",
    "def logr(dta,min):\n",
    "    '''\n",
    "    Input\n",
    "    dta: pandas dataframe nxp\n",
    "    min: backward length\n",
    "    Return\n",
    "    log return: pandas dataframe\n",
    "    '''\n",
    "    return dta.diff(min,0).dropna()"
   ]
  },
  {
   "cell_type": "code",
   "execution_count": 113,
   "metadata": {},
   "outputs": [],
   "source": [
    "x_begin_idx = log_pr.index[30]\n",
    "x_end_idx = log_pr.index[-31]\n",
    "y_begin_idx = log_pr.index[60]\n",
    "\n",
    "x = pd.concat((logr(log_pr,2)[x_begin_idx:x_end_idx],\n",
    "    logr(log_pr,3)[x_begin_idx:x_end_idx],\n",
    "    logr(log_pr,7)[x_begin_idx:x_end_idx]),axis=1)\n",
    "y = log_pr.diff(30)[y_begin_idx:]\n",
    "y = y.set_index(x.index)\n",
    "\n",
    "xtrain,xvali,xtest = x[:log_pr.index[-87841]],x[log_pr.index[-87840]:log_pr.index[-44641]],x[log_pr.index[-44640]:]\n",
    "ytrain,yvali,ytest= y[:log_pr.index[-87841]],y[log_pr.index[-87840]:log_pr.index[-44641]],y[log_pr.index[-44640]:]"
   ]
  },
  {
   "cell_type": "code",
   "execution_count": 67,
   "metadata": {},
   "outputs": [],
   "source": [
    "# preprocessing\n",
    "def remove_outliers(dta):\n",
    "    # Compute the mean and interquartile range\n",
    "    mean = dta.mean(0)\n",
    "    iqr = dta.quantile([0.25, 0.75], axis=0).diff().T.iloc[:, 1]\n",
    "    # Replace entries that are more than 10 times the IQR\n",
    "    # away from the mean with NaN (denotes a missing entry)\n",
    "    mask = np.abs(dta) > mean + 10 * iqr\n",
    "    treated = dta.copy()\n",
    "    treated[mask] = np.nan\n",
    "    return treated"
   ]
  },
  {
   "cell_type": "markdown",
   "metadata": {},
   "source": [
    "## Ridge Regression"
   ]
  },
  {
   "cell_type": "markdown",
   "metadata": {},
   "source": [
    "### Model Fitting"
   ]
  },
  {
   "cell_type": "code",
   "execution_count": 114,
   "metadata": {},
   "outputs": [],
   "source": [
    "from sklearn.linear_model import Ridge\n",
    "\n",
    "rr = Ridge(alpha=1).fit(xtrain,ytrain)"
   ]
  },
  {
   "cell_type": "code",
   "execution_count": 122,
   "metadata": {},
   "outputs": [
    {
     "data": {
      "text/html": [
       "<div>\n",
       "<style scoped>\n",
       "    .dataframe tbody tr th:only-of-type {\n",
       "        vertical-align: middle;\n",
       "    }\n",
       "\n",
       "    .dataframe tbody tr th {\n",
       "        vertical-align: top;\n",
       "    }\n",
       "\n",
       "    .dataframe thead th {\n",
       "        text-align: right;\n",
       "    }\n",
       "</style>\n",
       "<table border=\"1\" class=\"dataframe\">\n",
       "  <thead>\n",
       "    <tr style=\"text-align: right;\">\n",
       "      <th></th>\n",
       "      <th>0</th>\n",
       "      <th>1</th>\n",
       "      <th>2</th>\n",
       "      <th>3</th>\n",
       "      <th>4</th>\n",
       "      <th>5</th>\n",
       "      <th>6</th>\n",
       "      <th>7</th>\n",
       "      <th>8</th>\n",
       "      <th>9</th>\n",
       "    </tr>\n",
       "    <tr>\n",
       "      <th>timestamp</th>\n",
       "      <th></th>\n",
       "      <th></th>\n",
       "      <th></th>\n",
       "      <th></th>\n",
       "      <th></th>\n",
       "      <th></th>\n",
       "      <th></th>\n",
       "      <th></th>\n",
       "      <th></th>\n",
       "      <th></th>\n",
       "    </tr>\n",
       "  </thead>\n",
       "  <tbody>\n",
       "    <tr>\n",
       "      <th>2021-11-01 00:00:00</th>\n",
       "      <td>-0.000080</td>\n",
       "      <td>-0.018890</td>\n",
       "      <td>-0.004244</td>\n",
       "      <td>0.003424</td>\n",
       "      <td>-0.001426</td>\n",
       "      <td>-0.000447</td>\n",
       "      <td>-0.000266</td>\n",
       "      <td>0.001331</td>\n",
       "      <td>0.000045</td>\n",
       "      <td>0.000003</td>\n",
       "    </tr>\n",
       "    <tr>\n",
       "      <th>2021-11-01 00:01:00</th>\n",
       "      <td>-0.001046</td>\n",
       "      <td>-0.017175</td>\n",
       "      <td>-0.005742</td>\n",
       "      <td>0.003257</td>\n",
       "      <td>-0.000458</td>\n",
       "      <td>-0.000348</td>\n",
       "      <td>-0.000544</td>\n",
       "      <td>0.001474</td>\n",
       "      <td>-0.000374</td>\n",
       "      <td>-0.000803</td>\n",
       "    </tr>\n",
       "    <tr>\n",
       "      <th>2021-11-01 00:02:00</th>\n",
       "      <td>-0.001203</td>\n",
       "      <td>-0.013807</td>\n",
       "      <td>-0.003393</td>\n",
       "      <td>0.002812</td>\n",
       "      <td>0.000897</td>\n",
       "      <td>-0.001060</td>\n",
       "      <td>-0.000253</td>\n",
       "      <td>0.000604</td>\n",
       "      <td>-0.002556</td>\n",
       "      <td>-0.002298</td>\n",
       "    </tr>\n",
       "    <tr>\n",
       "      <th>2021-11-01 00:03:00</th>\n",
       "      <td>-0.000013</td>\n",
       "      <td>-0.006774</td>\n",
       "      <td>-0.003745</td>\n",
       "      <td>0.003471</td>\n",
       "      <td>0.000641</td>\n",
       "      <td>-0.001734</td>\n",
       "      <td>-0.000300</td>\n",
       "      <td>0.000494</td>\n",
       "      <td>-0.004369</td>\n",
       "      <td>-0.003059</td>\n",
       "    </tr>\n",
       "    <tr>\n",
       "      <th>2021-11-01 00:04:00</th>\n",
       "      <td>0.002705</td>\n",
       "      <td>-0.008016</td>\n",
       "      <td>-0.004659</td>\n",
       "      <td>0.004349</td>\n",
       "      <td>0.001408</td>\n",
       "      <td>-0.002230</td>\n",
       "      <td>0.000281</td>\n",
       "      <td>0.000079</td>\n",
       "      <td>-0.007239</td>\n",
       "      <td>-0.004448</td>\n",
       "    </tr>\n",
       "    <tr>\n",
       "      <th>...</th>\n",
       "      <td>...</td>\n",
       "      <td>...</td>\n",
       "      <td>...</td>\n",
       "      <td>...</td>\n",
       "      <td>...</td>\n",
       "      <td>...</td>\n",
       "      <td>...</td>\n",
       "      <td>...</td>\n",
       "      <td>...</td>\n",
       "      <td>...</td>\n",
       "    </tr>\n",
       "    <tr>\n",
       "      <th>2021-11-30 23:55:00</th>\n",
       "      <td>0.002072</td>\n",
       "      <td>-0.001540</td>\n",
       "      <td>0.010375</td>\n",
       "      <td>0.000360</td>\n",
       "      <td>0.005542</td>\n",
       "      <td>-0.002265</td>\n",
       "      <td>0.001956</td>\n",
       "      <td>-0.001994</td>\n",
       "      <td>0.000370</td>\n",
       "      <td>0.007541</td>\n",
       "    </tr>\n",
       "    <tr>\n",
       "      <th>2021-11-30 23:56:00</th>\n",
       "      <td>0.002903</td>\n",
       "      <td>-0.000311</td>\n",
       "      <td>0.009662</td>\n",
       "      <td>0.000788</td>\n",
       "      <td>0.005605</td>\n",
       "      <td>-0.002692</td>\n",
       "      <td>0.002851</td>\n",
       "      <td>-0.001979</td>\n",
       "      <td>0.000764</td>\n",
       "      <td>0.008665</td>\n",
       "    </tr>\n",
       "    <tr>\n",
       "      <th>2021-11-30 23:57:00</th>\n",
       "      <td>0.002459</td>\n",
       "      <td>-0.000767</td>\n",
       "      <td>0.009689</td>\n",
       "      <td>0.004306</td>\n",
       "      <td>0.006827</td>\n",
       "      <td>-0.001337</td>\n",
       "      <td>0.003033</td>\n",
       "      <td>-0.001348</td>\n",
       "      <td>0.000664</td>\n",
       "      <td>0.008521</td>\n",
       "    </tr>\n",
       "    <tr>\n",
       "      <th>2021-11-30 23:58:00</th>\n",
       "      <td>0.003693</td>\n",
       "      <td>-0.001451</td>\n",
       "      <td>0.012513</td>\n",
       "      <td>0.002922</td>\n",
       "      <td>0.006866</td>\n",
       "      <td>-0.000853</td>\n",
       "      <td>0.002492</td>\n",
       "      <td>-0.001700</td>\n",
       "      <td>0.001084</td>\n",
       "      <td>0.009537</td>\n",
       "    </tr>\n",
       "    <tr>\n",
       "      <th>2021-11-30 23:59:00</th>\n",
       "      <td>0.004414</td>\n",
       "      <td>-0.001027</td>\n",
       "      <td>0.015649</td>\n",
       "      <td>0.002850</td>\n",
       "      <td>0.006177</td>\n",
       "      <td>-0.000392</td>\n",
       "      <td>0.002381</td>\n",
       "      <td>-0.001866</td>\n",
       "      <td>0.000085</td>\n",
       "      <td>0.010355</td>\n",
       "    </tr>\n",
       "  </tbody>\n",
       "</table>\n",
       "<p>43200 rows × 10 columns</p>\n",
       "</div>"
      ],
      "text/plain": [
       "                            0         1         2         3         4  \\\n",
       "timestamp                                                               \n",
       "2021-11-01 00:00:00 -0.000080 -0.018890 -0.004244  0.003424 -0.001426   \n",
       "2021-11-01 00:01:00 -0.001046 -0.017175 -0.005742  0.003257 -0.000458   \n",
       "2021-11-01 00:02:00 -0.001203 -0.013807 -0.003393  0.002812  0.000897   \n",
       "2021-11-01 00:03:00 -0.000013 -0.006774 -0.003745  0.003471  0.000641   \n",
       "2021-11-01 00:04:00  0.002705 -0.008016 -0.004659  0.004349  0.001408   \n",
       "...                       ...       ...       ...       ...       ...   \n",
       "2021-11-30 23:55:00  0.002072 -0.001540  0.010375  0.000360  0.005542   \n",
       "2021-11-30 23:56:00  0.002903 -0.000311  0.009662  0.000788  0.005605   \n",
       "2021-11-30 23:57:00  0.002459 -0.000767  0.009689  0.004306  0.006827   \n",
       "2021-11-30 23:58:00  0.003693 -0.001451  0.012513  0.002922  0.006866   \n",
       "2021-11-30 23:59:00  0.004414 -0.001027  0.015649  0.002850  0.006177   \n",
       "\n",
       "                            5         6         7         8         9  \n",
       "timestamp                                                              \n",
       "2021-11-01 00:00:00 -0.000447 -0.000266  0.001331  0.000045  0.000003  \n",
       "2021-11-01 00:01:00 -0.000348 -0.000544  0.001474 -0.000374 -0.000803  \n",
       "2021-11-01 00:02:00 -0.001060 -0.000253  0.000604 -0.002556 -0.002298  \n",
       "2021-11-01 00:03:00 -0.001734 -0.000300  0.000494 -0.004369 -0.003059  \n",
       "2021-11-01 00:04:00 -0.002230  0.000281  0.000079 -0.007239 -0.004448  \n",
       "...                       ...       ...       ...       ...       ...  \n",
       "2021-11-30 23:55:00 -0.002265  0.001956 -0.001994  0.000370  0.007541  \n",
       "2021-11-30 23:56:00 -0.002692  0.002851 -0.001979  0.000764  0.008665  \n",
       "2021-11-30 23:57:00 -0.001337  0.003033 -0.001348  0.000664  0.008521  \n",
       "2021-11-30 23:58:00 -0.000853  0.002492 -0.001700  0.001084  0.009537  \n",
       "2021-11-30 23:59:00 -0.000392  0.002381 -0.001866  0.000085  0.010355  \n",
       "\n",
       "[43200 rows x 10 columns]"
      ]
     },
     "execution_count": 122,
     "metadata": {},
     "output_type": "execute_result"
    }
   ],
   "source": [
    "yvali"
   ]
  },
  {
   "cell_type": "code",
   "execution_count": 127,
   "metadata": {},
   "outputs": [
    {
     "data": {
      "text/plain": [
       "0   NaN\n",
       "1   NaN\n",
       "2   NaN\n",
       "3   NaN\n",
       "4   NaN\n",
       "5   NaN\n",
       "6   NaN\n",
       "7   NaN\n",
       "8   NaN\n",
       "9   NaN\n",
       "0   NaN\n",
       "1   NaN\n",
       "2   NaN\n",
       "3   NaN\n",
       "4   NaN\n",
       "5   NaN\n",
       "6   NaN\n",
       "7   NaN\n",
       "8   NaN\n",
       "9   NaN\n",
       "dtype: float64"
      ]
     },
     "execution_count": 127,
     "metadata": {},
     "output_type": "execute_result"
    }
   ],
   "source": [
    "pd.DataFrame(rr.predict(xvali),columns=[str(i) for i in range(10)],index=yvali.index)[::10].corrwith(yvali[::10])"
   ]
  },
  {
   "cell_type": "markdown",
   "metadata": {},
   "source": [
    "### Evaluation"
   ]
  },
  {
   "cell_type": "code",
   "execution_count": null,
   "metadata": {},
   "outputs": [],
   "source": [
    "def get_r_hat(A, B): \n",
    "    \"\"\"\n",
    "        A: 1440-by-10 dataframe of log prices with columns log_pr_0, ... , log_pr_9\n",
    "        B: 1440-by-10 dataframe of trading volumes with columns volu_0, ... , volu_9    \n",
    "        return: a numpy array of length 10, corresponding to the predictions for the forward 30-minutes returns of assets 0, 1, 2, ..., 9\n",
    "    \"\"\"\n",
    "    x_begin_idx = log_pr.index[30]\n",
    "    x_end_idx = log_pr.index[-31]\n",
    "    y_begin_idx = log_pr.index[60]\n",
    "\n",
    "    x = pd.concat((logr(log_pr,2)[x_begin_idx:x_end_idx],\n",
    "        logr(log_pr,3)[x_begin_idx:x_end_idx],\n",
    "        logr(log_pr,7)[x_begin_idx:x_end_idx]),axis=1)\n",
    "    y = log_pr.diff(30)[y_begin_idx:]\n",
    "    y = y.set_index(x.index)\n",
    "    return \n",
    "\n",
    "def evaluate(log_pr_test, volu_test):\n",
    "    t0 = time.time()\n",
    "    dt = datetime.timedelta(days=1)\n",
    "\n",
    "    r_fwd = (log_pr_test.shift(-30) - log_pr_test).iloc[1440::10]\n",
    "    r_hat = pd.DataFrame(index=log_pr_test.index[1440::10], columns=np.arange(10), dtype=np.float64)\n",
    "\n",
    "    for t in log_pr_test.index[1440::10]: # compute the predictions every 10 minutes\n",
    "        # inputs 1 day of log price and volume\n",
    "        r_hat.loc[t, :] = get_r_hat(log_pr_test.loc[(t - dt):t], volu_test.loc[(t - dt):t])\n",
    "    t_used = time.time() - t0\n",
    "    print(\"Time used: \", t_used)\n",
    "\n",
    "    r_fwd_all = r_fwd.iloc[:-3].values.ravel() # the final 3 rows are NaNs. \n",
    "    r_hat_all = r_hat.iloc[:-3].values.ravel()\n",
    "    return np.corrcoef(r_fwd_all, r_hat_all)[0,1]"
   ]
  },
  {
   "cell_type": "code",
   "execution_count": null,
   "metadata": {},
   "outputs": [],
   "source": [
    "t0 = time.time()\n",
    "dt = datetime.timedelta(days=1)\n",
    "\n",
    "r_fwd = yval\n",
    "r_hat = rr.predict(xval)\n",
    "\n",
    "for t in log_pr_test.index[1440::10]: # compute the predictions every 10 minutes\n",
    "    # inputs 1 day of log price and volume\n",
    "    r_hat.loc[t, :] = get_r_hat(log_pr_test.loc[(t - dt):t], volu_test.loc[(t - dt):t])\n",
    "t_used = time.time() - t0\n",
    "print(\"Time used: \", t_used)\n",
    "\n",
    "r_fwd_all = r_fwd.iloc[:-3].values.ravel() # the final 3 rows are NaNs. \n",
    "r_hat_all = r_hat.iloc[:-3].values.ravel()\n",
    "return np.corrcoef(r_fwd_all, r_hat_all)[0,1]"
   ]
  },
  {
   "cell_type": "markdown",
   "metadata": {},
   "source": [
    "## PC Regression"
   ]
  },
  {
   "cell_type": "code",
   "execution_count": null,
   "metadata": {},
   "outputs": [],
   "source": [
    "# pca_trainx\n",
    "# pca_trainy\n",
    "\n",
    "from sklearn.decomposition import PCA\n",
    "from sklearn.preprocessing import scale\n",
    "from sklearn.linear_model import LinearRegression\n",
    "\n",
    "pca = PCA()\n",
    "pca_trainx = pca.fit_transform(scale(trainx))\n",
    "\n",
    "lr = LinearRegression().fit(pca_trainx,pca_trainy)\n"
   ]
  },
  {
   "cell_type": "markdown",
   "metadata": {},
   "source": [
    "## Evaluation"
   ]
  },
  {
   "cell_type": "code",
   "execution_count": null,
   "metadata": {},
   "outputs": [],
   "source": []
  }
 ],
 "metadata": {
  "interpreter": {
   "hash": "bcbeb1c3c4ccee2109855bb42e1bb012102ee5721b972abedda41e225a004887"
  },
  "kernelspec": {
   "display_name": "Python 3.8.5 ('base')",
   "language": "python",
   "name": "python3"
  },
  "language_info": {
   "codemirror_mode": {
    "name": "ipython",
    "version": 3
   },
   "file_extension": ".py",
   "mimetype": "text/x-python",
   "name": "python",
   "nbconvert_exporter": "python",
   "pygments_lexer": "ipython3",
   "version": "3.8.5"
  },
  "orig_nbformat": 4
 },
 "nbformat": 4,
 "nbformat_minor": 2
}

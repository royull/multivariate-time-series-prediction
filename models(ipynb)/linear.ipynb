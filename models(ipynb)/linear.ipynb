{
 "cells": [
  {
   "cell_type": "markdown",
   "metadata": {},
   "source": [
    "# Linear Model with AIC feature engineering"
   ]
  },
  {
   "cell_type": "markdown",
   "metadata": {},
   "source": [
    "The linear method makes use of the log backward return (log price difference) to predict foward return, thus decide log price."
   ]
  },
  {
   "cell_type": "markdown",
   "metadata": {},
   "source": [
    "Training Matrix:\n",
    "1) without dimension reduction: feature engineering with AIC criteria\n",
    "2) with PCA: "
   ]
  },
  {
   "cell_type": "code",
   "execution_count": 3,
   "metadata": {},
   "outputs": [],
   "source": [
    "import os\n",
    "import datetime\n",
    "import time\n",
    "import pandas as pd\n",
    "import numpy as np\n",
    "import matplotlib.pyplot as plt\n",
    "import seaborn as sns\n",
    "%matplotlib inline \n",
    "\n",
    "log_pr = pd.read_pickle(\"../data/log_price.df\")\n",
    "volu = pd.read_pickle(\"../data/volume_usd.df\")"
   ]
  },
  {
   "cell_type": "code",
   "execution_count": null,
   "metadata": {},
   "outputs": [],
   "source": [
    "# preprocessing\n",
    "def remove_outliers(dta):\n",
    "    # Compute the mean and interquartile range\n",
    "    mean = dta.mean(0)\n",
    "    iqr = dta.quantile([0.25, 0.75], axis=0).diff().T.iloc[:, 1]\n",
    "    # Replace entries that are more than 10 times the IQR\n",
    "    # away from the mean with NaN (denotes a missing entry)\n",
    "    mask = np.abs(dta) > mean + 10 * iqr\n",
    "    treated = dta.copy()\n",
    "    treated[mask] = np.nan\n",
    "    return treated"
   ]
  },
  {
   "cell_type": "code",
   "execution_count": 23,
   "metadata": {},
   "outputs": [
    {
     "data": {
      "text/plain": [
       "2648130"
      ]
     },
     "execution_count": 23,
     "metadata": {},
     "output_type": "execute_result"
    }
   ],
   "source": [
    "log_pr.size-1470"
   ]
  },
  {
   "cell_type": "code",
   "execution_count": 37,
   "metadata": {},
   "outputs": [
    {
     "data": {
      "text/plain": [
       "2634900"
      ]
     },
     "execution_count": 37,
     "metadata": {},
     "output_type": "execute_result"
    }
   ],
   "source": [
    "y = log_pr.iloc[1470:]\n",
    "y.size"
   ]
  },
  {
   "cell_type": "code",
   "execution_count": 33,
   "metadata": {},
   "outputs": [
    {
     "data": {
      "text/plain": [
       "DatetimeIndex(['2021-07-02 00:30:00', '2021-07-02 00:31:00',\n",
       "               '2021-07-02 00:32:00', '2021-07-02 00:33:00',\n",
       "               '2021-07-02 00:34:00', '2021-07-02 00:35:00',\n",
       "               '2021-07-02 00:36:00', '2021-07-02 00:37:00',\n",
       "               '2021-07-02 00:38:00', '2021-07-02 00:39:00',\n",
       "               ...\n",
       "               '2021-12-31 23:50:00', '2021-12-31 23:51:00',\n",
       "               '2021-12-31 23:52:00', '2021-12-31 23:53:00',\n",
       "               '2021-12-31 23:54:00', '2021-12-31 23:55:00',\n",
       "               '2021-12-31 23:56:00', '2021-12-31 23:57:00',\n",
       "               '2021-12-31 23:58:00', '2021-12-31 23:59:00'],\n",
       "              dtype='datetime64[ns]', name='timestamp', length=263490, freq=None)"
      ]
     },
     "execution_count": 33,
     "metadata": {},
     "output_type": "execute_result"
    }
   ],
   "source": [
    "log_pr.index[1470:]"
   ]
  },
  {
   "cell_type": "code",
   "execution_count": 8,
   "metadata": {},
   "outputs": [],
   "source": [
    "# data transformation\n",
    "def logr(dta,min):\n",
    "    '''\n",
    "    Input\n",
    "    dta: pandas dataframe nxp\n",
    "    min: backward length\n",
    "    Return\n",
    "    log return: pandas dataframe\n",
    "    '''\n",
    "    return dta.diff(min,0).dropna()\n",
    "\n",
    "def data_partition(dta):\n",
    "    '''\n",
    "    Input\n",
    "    data: numpy array\n",
    "    Return\n",
    "    '''\n",
    "    \n",
    "    return x,y"
   ]
  },
  {
   "cell_type": "code",
   "execution_count": 10,
   "metadata": {},
   "outputs": [
    {
     "data": {
      "text/html": [
       "<div>\n",
       "<style scoped>\n",
       "    .dataframe tbody tr th:only-of-type {\n",
       "        vertical-align: middle;\n",
       "    }\n",
       "\n",
       "    .dataframe tbody tr th {\n",
       "        vertical-align: top;\n",
       "    }\n",
       "\n",
       "    .dataframe thead th {\n",
       "        text-align: right;\n",
       "    }\n",
       "</style>\n",
       "<table border=\"1\" class=\"dataframe\">\n",
       "  <thead>\n",
       "    <tr style=\"text-align: right;\">\n",
       "      <th></th>\n",
       "      <th>0</th>\n",
       "      <th>1</th>\n",
       "      <th>2</th>\n",
       "      <th>3</th>\n",
       "      <th>4</th>\n",
       "      <th>5</th>\n",
       "      <th>6</th>\n",
       "      <th>7</th>\n",
       "      <th>8</th>\n",
       "      <th>9</th>\n",
       "    </tr>\n",
       "    <tr>\n",
       "      <th>timestamp</th>\n",
       "      <th></th>\n",
       "      <th></th>\n",
       "      <th></th>\n",
       "      <th></th>\n",
       "      <th></th>\n",
       "      <th></th>\n",
       "      <th></th>\n",
       "      <th></th>\n",
       "      <th></th>\n",
       "      <th></th>\n",
       "    </tr>\n",
       "  </thead>\n",
       "  <tbody>\n",
       "    <tr>\n",
       "      <th>2021-07-01 00:07:00</th>\n",
       "      <td>-0.000915</td>\n",
       "      <td>0.005092</td>\n",
       "      <td>0.003826</td>\n",
       "      <td>-0.000476</td>\n",
       "      <td>-0.008566</td>\n",
       "      <td>0.000545</td>\n",
       "      <td>-0.002871</td>\n",
       "      <td>0.000117</td>\n",
       "      <td>0.004679</td>\n",
       "      <td>0.000965</td>\n",
       "    </tr>\n",
       "    <tr>\n",
       "      <th>2021-07-01 00:08:00</th>\n",
       "      <td>0.001864</td>\n",
       "      <td>0.002145</td>\n",
       "      <td>0.000929</td>\n",
       "      <td>-0.000737</td>\n",
       "      <td>-0.007151</td>\n",
       "      <td>-0.000172</td>\n",
       "      <td>-0.001508</td>\n",
       "      <td>0.000052</td>\n",
       "      <td>0.004220</td>\n",
       "      <td>0.000665</td>\n",
       "    </tr>\n",
       "    <tr>\n",
       "      <th>2021-07-01 00:09:00</th>\n",
       "      <td>0.000775</td>\n",
       "      <td>-0.001079</td>\n",
       "      <td>0.000619</td>\n",
       "      <td>-0.000366</td>\n",
       "      <td>-0.003545</td>\n",
       "      <td>-0.000924</td>\n",
       "      <td>0.000257</td>\n",
       "      <td>0.000792</td>\n",
       "      <td>0.001112</td>\n",
       "      <td>-0.000212</td>\n",
       "    </tr>\n",
       "    <tr>\n",
       "      <th>2021-07-01 00:10:00</th>\n",
       "      <td>0.001207</td>\n",
       "      <td>-0.000802</td>\n",
       "      <td>-0.000221</td>\n",
       "      <td>-0.000691</td>\n",
       "      <td>-0.005518</td>\n",
       "      <td>0.000478</td>\n",
       "      <td>-0.002529</td>\n",
       "      <td>0.000389</td>\n",
       "      <td>0.000696</td>\n",
       "      <td>-0.000433</td>\n",
       "    </tr>\n",
       "    <tr>\n",
       "      <th>2021-07-01 00:11:00</th>\n",
       "      <td>0.001722</td>\n",
       "      <td>-0.000706</td>\n",
       "      <td>-0.000304</td>\n",
       "      <td>0.001532</td>\n",
       "      <td>-0.005277</td>\n",
       "      <td>0.001118</td>\n",
       "      <td>-0.000632</td>\n",
       "      <td>0.000213</td>\n",
       "      <td>0.001142</td>\n",
       "      <td>-0.000005</td>\n",
       "    </tr>\n",
       "    <tr>\n",
       "      <th>...</th>\n",
       "      <td>...</td>\n",
       "      <td>...</td>\n",
       "      <td>...</td>\n",
       "      <td>...</td>\n",
       "      <td>...</td>\n",
       "      <td>...</td>\n",
       "      <td>...</td>\n",
       "      <td>...</td>\n",
       "      <td>...</td>\n",
       "      <td>...</td>\n",
       "    </tr>\n",
       "    <tr>\n",
       "      <th>2021-12-31 23:55:00</th>\n",
       "      <td>-0.001917</td>\n",
       "      <td>0.001370</td>\n",
       "      <td>-0.005403</td>\n",
       "      <td>-0.001475</td>\n",
       "      <td>0.000298</td>\n",
       "      <td>-0.000008</td>\n",
       "      <td>0.002091</td>\n",
       "      <td>0.000287</td>\n",
       "      <td>0.000538</td>\n",
       "      <td>0.001227</td>\n",
       "    </tr>\n",
       "    <tr>\n",
       "      <th>2021-12-31 23:56:00</th>\n",
       "      <td>-0.001885</td>\n",
       "      <td>0.000638</td>\n",
       "      <td>-0.001839</td>\n",
       "      <td>-0.000029</td>\n",
       "      <td>-0.001013</td>\n",
       "      <td>-0.000647</td>\n",
       "      <td>0.001990</td>\n",
       "      <td>-0.000213</td>\n",
       "      <td>0.000589</td>\n",
       "      <td>0.000136</td>\n",
       "    </tr>\n",
       "    <tr>\n",
       "      <th>2021-12-31 23:57:00</th>\n",
       "      <td>-0.001501</td>\n",
       "      <td>0.001143</td>\n",
       "      <td>-0.001489</td>\n",
       "      <td>-0.000092</td>\n",
       "      <td>-0.000341</td>\n",
       "      <td>-0.000867</td>\n",
       "      <td>0.001540</td>\n",
       "      <td>-0.000302</td>\n",
       "      <td>0.000288</td>\n",
       "      <td>-0.000102</td>\n",
       "    </tr>\n",
       "    <tr>\n",
       "      <th>2021-12-31 23:58:00</th>\n",
       "      <td>0.000246</td>\n",
       "      <td>0.000294</td>\n",
       "      <td>0.000553</td>\n",
       "      <td>-0.001035</td>\n",
       "      <td>0.000323</td>\n",
       "      <td>-0.000296</td>\n",
       "      <td>0.000751</td>\n",
       "      <td>-0.000224</td>\n",
       "      <td>-0.000242</td>\n",
       "      <td>-0.000817</td>\n",
       "    </tr>\n",
       "    <tr>\n",
       "      <th>2021-12-31 23:59:00</th>\n",
       "      <td>0.002151</td>\n",
       "      <td>0.001278</td>\n",
       "      <td>0.002992</td>\n",
       "      <td>-0.000186</td>\n",
       "      <td>-0.001341</td>\n",
       "      <td>-0.000596</td>\n",
       "      <td>-0.003596</td>\n",
       "      <td>-0.001285</td>\n",
       "      <td>0.000563</td>\n",
       "      <td>-0.000342</td>\n",
       "    </tr>\n",
       "  </tbody>\n",
       "</table>\n",
       "<p>264953 rows × 10 columns</p>\n",
       "</div>"
      ],
      "text/plain": [
       "                            0         1         2         3         4  \\\n",
       "timestamp                                                               \n",
       "2021-07-01 00:07:00 -0.000915  0.005092  0.003826 -0.000476 -0.008566   \n",
       "2021-07-01 00:08:00  0.001864  0.002145  0.000929 -0.000737 -0.007151   \n",
       "2021-07-01 00:09:00  0.000775 -0.001079  0.000619 -0.000366 -0.003545   \n",
       "2021-07-01 00:10:00  0.001207 -0.000802 -0.000221 -0.000691 -0.005518   \n",
       "2021-07-01 00:11:00  0.001722 -0.000706 -0.000304  0.001532 -0.005277   \n",
       "...                       ...       ...       ...       ...       ...   \n",
       "2021-12-31 23:55:00 -0.001917  0.001370 -0.005403 -0.001475  0.000298   \n",
       "2021-12-31 23:56:00 -0.001885  0.000638 -0.001839 -0.000029 -0.001013   \n",
       "2021-12-31 23:57:00 -0.001501  0.001143 -0.001489 -0.000092 -0.000341   \n",
       "2021-12-31 23:58:00  0.000246  0.000294  0.000553 -0.001035  0.000323   \n",
       "2021-12-31 23:59:00  0.002151  0.001278  0.002992 -0.000186 -0.001341   \n",
       "\n",
       "                            5         6         7         8         9  \n",
       "timestamp                                                              \n",
       "2021-07-01 00:07:00  0.000545 -0.002871  0.000117  0.004679  0.000965  \n",
       "2021-07-01 00:08:00 -0.000172 -0.001508  0.000052  0.004220  0.000665  \n",
       "2021-07-01 00:09:00 -0.000924  0.000257  0.000792  0.001112 -0.000212  \n",
       "2021-07-01 00:10:00  0.000478 -0.002529  0.000389  0.000696 -0.000433  \n",
       "2021-07-01 00:11:00  0.001118 -0.000632  0.000213  0.001142 -0.000005  \n",
       "...                       ...       ...       ...       ...       ...  \n",
       "2021-12-31 23:55:00 -0.000008  0.002091  0.000287  0.000538  0.001227  \n",
       "2021-12-31 23:56:00 -0.000647  0.001990 -0.000213  0.000589  0.000136  \n",
       "2021-12-31 23:57:00 -0.000867  0.001540 -0.000302  0.000288 -0.000102  \n",
       "2021-12-31 23:58:00 -0.000296  0.000751 -0.000224 -0.000242 -0.000817  \n",
       "2021-12-31 23:59:00 -0.000596 -0.003596 -0.001285  0.000563 -0.000342  \n",
       "\n",
       "[264953 rows x 10 columns]"
      ]
     },
     "execution_count": 10,
     "metadata": {},
     "output_type": "execute_result"
    }
   ],
   "source": [
    "logr(log_pr,7)"
   ]
  },
  {
   "cell_type": "code",
   "execution_count": null,
   "metadata": {},
   "outputs": [],
   "source": []
  }
 ],
 "metadata": {
  "interpreter": {
   "hash": "bcbeb1c3c4ccee2109855bb42e1bb012102ee5721b972abedda41e225a004887"
  },
  "kernelspec": {
   "display_name": "Python 3.8.5 ('base')",
   "language": "python",
   "name": "python3"
  },
  "language_info": {
   "codemirror_mode": {
    "name": "ipython",
    "version": 3
   },
   "file_extension": ".py",
   "mimetype": "text/x-python",
   "name": "python",
   "nbconvert_exporter": "python",
   "pygments_lexer": "ipython3",
   "version": "3.8.5"
  },
  "orig_nbformat": 4
 },
 "nbformat": 4,
 "nbformat_minor": 2
}
